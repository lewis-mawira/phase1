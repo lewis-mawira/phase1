{
 "cells": [
  {
   "cell_type": "markdown",
   "id": "b6f5bb05",
   "metadata": {},
   "source": [
    "# NEW MICROSOFT'S MOVIE STUDIO (Exploratory Data Analysis)"
   ]
  },
  {
   "cell_type": "markdown",
   "id": "dc818a44",
   "metadata": {},
   "source": [
    "![Movie Time](wp10615933-movie-collection-wallpapers.jpg)\n"
   ]
  },
  {
   "cell_type": "markdown",
   "id": "e2b4e54f",
   "metadata": {},
   "source": [
    "# NEW MICROSOFT'S MOVIE STUDIO (Exploratory Data Analysis)"
   ]
  },
  {
   "cell_type": "markdown",
   "id": "15e73d6a",
   "metadata": {},
   "source": [
    "# 1. Defining the Question\n",
    " \n",
    "   ### a) Specifying the Data Analytic Question\n",
    "   \n",
    "The movies industry is characterized by diffrent genres of movies. They include animations, action movies, comedies etc. When producing a movie it is important to decide on what genre to get into. This can be done by determining the best perfoming movies in the market. There are different aspects that can be used to determine how different genres are perfoming example What are the top-perfoming movie genres in terms of box office revenue, and how can this information be used to guide Microsoft's new movie studio in selecting the most promising genre for their film production?\n",
    "  \n",
    "  ### b) Defining the Metrics for Success\n",
    "The primary objective is to identify movie genres that have achieved remarkable commercial success based on box office revenue. Analyzing and comparing revenue figures across various genres will enable us to determine the genres with a higher likelihood of achieving commercial success. Additionally, metrics such as the involvement of popular actors in highly rated movies, as well as the directors and writers associated with the best-rated films, can be considered to evaluate success. \n",
    "\n",
    "### c) Understanding the context \n",
    "We will consider the following key aspects:\n",
    " 1. Market dynamics: Get an understanding of the current state of the movie industry, including market trends, audience preferences and competition. This will help identify opportunities and challenges.\n",
    " 2. Business goals: Understand microsoft's goals and objectives for entering the movie industry.\n",
    " 3. External factors: familiarize ourselves with any relevant regulations or policies that may impact the movie production and distribution process. \n",
    " \n",
    " ### d) Recording the Experimental Design:\n",
    "To accomplish our objectives, we will follow the following steps:\n",
    "\n",
    " 1. Data Collection: Gather relevant data related to movie performance, genres, box office revenue, ratings, cast and crew information, and other pertinent factors.\n",
    " 2. Data Preprocessing: Clean the collected data by handling missing values, duplicates, and formatting issues. Perform necessary data transformations and feature engineering to make the data suitable for analysis.\n",
    "3. Exploratory Data Analysis (EDA): Conduct an in-depth analysis of the data to identify patterns, relationships, and trends. This will involve examining the distribution of box office revenue, exploring genre popularity, analyzing the impact of ratings, and investigating budget and profitability aspects.\n",
    "4. Genre Performance Analysis: Compare the performance of different genres based on box office revenue and other relevant metrics.\n",
    " 5. Insights and Recommendations: Translate the findings from EDA into actionable insights and recommendations for Microsoft's new movie studio.\n",
    " 6. Sensitivity Analysis: Perform sensitivity analysis to assess the impact of various factors on the identified insights and recommendations.\n",
    " 7. Reporting and Visualization: Prepare a comprehensive report, utilizing effective visualizations and storytelling techniques to communicate the insights and recommendations to the business stakeholders.\n",
    " \n",
    " ### e) Data Relevance\n",
    " 1. Data selection that is relevant to our analysis\n",
    " 2. Data quality. Check completeness, accuracy, consisistency and reliability of the data.\n",
    " 3. Data scope. we can cosider the scope of the data in terms of time.\n"
   ]
  },
  {
   "cell_type": "markdown",
   "id": "05b7fc8a",
   "metadata": {},
   "source": [
    "## 2. IMPORTING RELEVANT LIBRARIES"
   ]
  },
  {
   "cell_type": "code",
   "execution_count": 1,
   "id": "b2b9ca3d",
   "metadata": {},
   "outputs": [],
   "source": [
    "import pandas as pd\n",
    "import numpy as np\n",
    "import matplotlib.pyplot as plt\n",
    "import seaborn as sns\n",
    "import sqlite3\n",
    "import warnings\n",
    "warnings.filterwarnings('ignore')"
   ]
  },
  {
   "cell_type": "markdown",
   "id": "f311045c",
   "metadata": {},
   "source": [
    "## 3. LOADING THE DATA"
   ]
  },
  {
   "cell_type": "code",
   "execution_count": 2,
   "id": "f6eec6c6",
   "metadata": {
    "scrolled": true
   },
   "outputs": [
    {
     "data": {
      "text/html": [
       "<div>\n",
       "<style scoped>\n",
       "    .dataframe tbody tr th:only-of-type {\n",
       "        vertical-align: middle;\n",
       "    }\n",
       "\n",
       "    .dataframe tbody tr th {\n",
       "        vertical-align: top;\n",
       "    }\n",
       "\n",
       "    .dataframe thead th {\n",
       "        text-align: right;\n",
       "    }\n",
       "</style>\n",
       "<table border=\"1\" class=\"dataframe\">\n",
       "  <thead>\n",
       "    <tr style=\"text-align: right;\">\n",
       "      <th></th>\n",
       "      <th>title</th>\n",
       "      <th>studio</th>\n",
       "      <th>domestic_gross</th>\n",
       "      <th>foreign_gross</th>\n",
       "      <th>year</th>\n",
       "    </tr>\n",
       "  </thead>\n",
       "  <tbody>\n",
       "    <tr>\n",
       "      <th>0</th>\n",
       "      <td>Toy Story 3</td>\n",
       "      <td>BV</td>\n",
       "      <td>415000000.0</td>\n",
       "      <td>652000000</td>\n",
       "      <td>2010</td>\n",
       "    </tr>\n",
       "    <tr>\n",
       "      <th>1</th>\n",
       "      <td>Alice in Wonderland (2010)</td>\n",
       "      <td>BV</td>\n",
       "      <td>334200000.0</td>\n",
       "      <td>691300000</td>\n",
       "      <td>2010</td>\n",
       "    </tr>\n",
       "    <tr>\n",
       "      <th>2</th>\n",
       "      <td>Harry Potter and the Deathly Hallows Part 1</td>\n",
       "      <td>WB</td>\n",
       "      <td>296000000.0</td>\n",
       "      <td>664300000</td>\n",
       "      <td>2010</td>\n",
       "    </tr>\n",
       "    <tr>\n",
       "      <th>3</th>\n",
       "      <td>Inception</td>\n",
       "      <td>WB</td>\n",
       "      <td>292600000.0</td>\n",
       "      <td>535700000</td>\n",
       "      <td>2010</td>\n",
       "    </tr>\n",
       "    <tr>\n",
       "      <th>4</th>\n",
       "      <td>Shrek Forever After</td>\n",
       "      <td>P/DW</td>\n",
       "      <td>238700000.0</td>\n",
       "      <td>513900000</td>\n",
       "      <td>2010</td>\n",
       "    </tr>\n",
       "  </tbody>\n",
       "</table>\n",
       "</div>"
      ],
      "text/plain": [
       "                                         title studio  domestic_gross   \n",
       "0                                  Toy Story 3     BV     415000000.0  \\\n",
       "1                   Alice in Wonderland (2010)     BV     334200000.0   \n",
       "2  Harry Potter and the Deathly Hallows Part 1     WB     296000000.0   \n",
       "3                                    Inception     WB     292600000.0   \n",
       "4                          Shrek Forever After   P/DW     238700000.0   \n",
       "\n",
       "  foreign_gross  year  \n",
       "0     652000000  2010  \n",
       "1     691300000  2010  \n",
       "2     664300000  2010  \n",
       "3     535700000  2010  \n",
       "4     513900000  2010  "
      ]
     },
     "execution_count": 2,
     "metadata": {},
     "output_type": "execute_result"
    }
   ],
   "source": [
    "# loading data of bom gross incomes\n",
    "bom_gross = pd.read_csv('data/bom.movie_gross.csv.gz')\n",
    "bom_gross.head()"
   ]
  },
  {
   "cell_type": "code",
   "execution_count": 3,
   "id": "672d5996",
   "metadata": {
    "scrolled": true
   },
   "outputs": [
    {
     "name": "stdout",
     "output_type": "stream",
     "text": [
      "<class 'pandas.core.frame.DataFrame'>\n",
      "RangeIndex: 3387 entries, 0 to 3386\n",
      "Data columns (total 5 columns):\n",
      " #   Column          Non-Null Count  Dtype  \n",
      "---  ------          --------------  -----  \n",
      " 0   title           3387 non-null   object \n",
      " 1   studio          3382 non-null   object \n",
      " 2   domestic_gross  3359 non-null   float64\n",
      " 3   foreign_gross   2037 non-null   object \n",
      " 4   year            3387 non-null   int64  \n",
      "dtypes: float64(1), int64(1), object(3)\n",
      "memory usage: 132.4+ KB\n"
     ]
    }
   ],
   "source": [
    "bom_gross.info()"
   ]
  },
  {
   "cell_type": "code",
   "execution_count": 4,
   "id": "ab4165cb",
   "metadata": {
    "scrolled": true
   },
   "outputs": [
    {
     "data": {
      "text/html": [
       "<div>\n",
       "<style scoped>\n",
       "    .dataframe tbody tr th:only-of-type {\n",
       "        vertical-align: middle;\n",
       "    }\n",
       "\n",
       "    .dataframe tbody tr th {\n",
       "        vertical-align: top;\n",
       "    }\n",
       "\n",
       "    .dataframe thead th {\n",
       "        text-align: right;\n",
       "    }\n",
       "</style>\n",
       "<table border=\"1\" class=\"dataframe\">\n",
       "  <thead>\n",
       "    <tr style=\"text-align: right;\">\n",
       "      <th></th>\n",
       "      <th>nconst</th>\n",
       "      <th>primary_name</th>\n",
       "      <th>birth_year</th>\n",
       "      <th>death_year</th>\n",
       "      <th>primary_profession</th>\n",
       "      <th>known_for_titles</th>\n",
       "    </tr>\n",
       "  </thead>\n",
       "  <tbody>\n",
       "    <tr>\n",
       "      <th>0</th>\n",
       "      <td>nm0061671</td>\n",
       "      <td>Mary Ellen Bauder</td>\n",
       "      <td>NaN</td>\n",
       "      <td>NaN</td>\n",
       "      <td>miscellaneous,production_manager,producer</td>\n",
       "      <td>tt0837562,tt2398241,tt0844471,tt0118553</td>\n",
       "    </tr>\n",
       "    <tr>\n",
       "      <th>1</th>\n",
       "      <td>nm0061865</td>\n",
       "      <td>Joseph Bauer</td>\n",
       "      <td>NaN</td>\n",
       "      <td>NaN</td>\n",
       "      <td>composer,music_department,sound_department</td>\n",
       "      <td>tt0896534,tt6791238,tt0287072,tt1682940</td>\n",
       "    </tr>\n",
       "    <tr>\n",
       "      <th>2</th>\n",
       "      <td>nm0062070</td>\n",
       "      <td>Bruce Baum</td>\n",
       "      <td>NaN</td>\n",
       "      <td>NaN</td>\n",
       "      <td>miscellaneous,actor,writer</td>\n",
       "      <td>tt1470654,tt0363631,tt0104030,tt0102898</td>\n",
       "    </tr>\n",
       "    <tr>\n",
       "      <th>3</th>\n",
       "      <td>nm0062195</td>\n",
       "      <td>Axel Baumann</td>\n",
       "      <td>NaN</td>\n",
       "      <td>NaN</td>\n",
       "      <td>camera_department,cinematographer,art_department</td>\n",
       "      <td>tt0114371,tt2004304,tt1618448,tt1224387</td>\n",
       "    </tr>\n",
       "    <tr>\n",
       "      <th>4</th>\n",
       "      <td>nm0062798</td>\n",
       "      <td>Pete Baxter</td>\n",
       "      <td>NaN</td>\n",
       "      <td>NaN</td>\n",
       "      <td>production_designer,art_department,set_decorator</td>\n",
       "      <td>tt0452644,tt0452692,tt3458030,tt2178256</td>\n",
       "    </tr>\n",
       "    <tr>\n",
       "      <th>...</th>\n",
       "      <td>...</td>\n",
       "      <td>...</td>\n",
       "      <td>...</td>\n",
       "      <td>...</td>\n",
       "      <td>...</td>\n",
       "      <td>...</td>\n",
       "    </tr>\n",
       "    <tr>\n",
       "      <th>606643</th>\n",
       "      <td>nm9990381</td>\n",
       "      <td>Susan Grobes</td>\n",
       "      <td>NaN</td>\n",
       "      <td>NaN</td>\n",
       "      <td>actress</td>\n",
       "      <td>NaN</td>\n",
       "    </tr>\n",
       "    <tr>\n",
       "      <th>606644</th>\n",
       "      <td>nm9990690</td>\n",
       "      <td>Joo Yeon So</td>\n",
       "      <td>NaN</td>\n",
       "      <td>NaN</td>\n",
       "      <td>actress</td>\n",
       "      <td>tt9090932,tt8737130</td>\n",
       "    </tr>\n",
       "    <tr>\n",
       "      <th>606645</th>\n",
       "      <td>nm9991320</td>\n",
       "      <td>Madeline Smith</td>\n",
       "      <td>NaN</td>\n",
       "      <td>NaN</td>\n",
       "      <td>actress</td>\n",
       "      <td>tt8734436,tt9615610</td>\n",
       "    </tr>\n",
       "    <tr>\n",
       "      <th>606646</th>\n",
       "      <td>nm9991786</td>\n",
       "      <td>Michelle Modigliani</td>\n",
       "      <td>NaN</td>\n",
       "      <td>NaN</td>\n",
       "      <td>producer</td>\n",
       "      <td>NaN</td>\n",
       "    </tr>\n",
       "    <tr>\n",
       "      <th>606647</th>\n",
       "      <td>nm9993380</td>\n",
       "      <td>Pegasus Envoyé</td>\n",
       "      <td>NaN</td>\n",
       "      <td>NaN</td>\n",
       "      <td>director,actor,writer</td>\n",
       "      <td>tt8743182</td>\n",
       "    </tr>\n",
       "  </tbody>\n",
       "</table>\n",
       "<p>606648 rows × 6 columns</p>\n",
       "</div>"
      ],
      "text/plain": [
       "           nconst         primary_name  birth_year  death_year   \n",
       "0       nm0061671    Mary Ellen Bauder         NaN         NaN  \\\n",
       "1       nm0061865         Joseph Bauer         NaN         NaN   \n",
       "2       nm0062070           Bruce Baum         NaN         NaN   \n",
       "3       nm0062195         Axel Baumann         NaN         NaN   \n",
       "4       nm0062798          Pete Baxter         NaN         NaN   \n",
       "...           ...                  ...         ...         ...   \n",
       "606643  nm9990381         Susan Grobes         NaN         NaN   \n",
       "606644  nm9990690          Joo Yeon So         NaN         NaN   \n",
       "606645  nm9991320       Madeline Smith         NaN         NaN   \n",
       "606646  nm9991786  Michelle Modigliani         NaN         NaN   \n",
       "606647  nm9993380       Pegasus Envoyé         NaN         NaN   \n",
       "\n",
       "                                      primary_profession   \n",
       "0              miscellaneous,production_manager,producer  \\\n",
       "1             composer,music_department,sound_department   \n",
       "2                             miscellaneous,actor,writer   \n",
       "3       camera_department,cinematographer,art_department   \n",
       "4       production_designer,art_department,set_decorator   \n",
       "...                                                  ...   \n",
       "606643                                           actress   \n",
       "606644                                           actress   \n",
       "606645                                           actress   \n",
       "606646                                          producer   \n",
       "606647                             director,actor,writer   \n",
       "\n",
       "                               known_for_titles  \n",
       "0       tt0837562,tt2398241,tt0844471,tt0118553  \n",
       "1       tt0896534,tt6791238,tt0287072,tt1682940  \n",
       "2       tt1470654,tt0363631,tt0104030,tt0102898  \n",
       "3       tt0114371,tt2004304,tt1618448,tt1224387  \n",
       "4       tt0452644,tt0452692,tt3458030,tt2178256  \n",
       "...                                         ...  \n",
       "606643                                      NaN  \n",
       "606644                      tt9090932,tt8737130  \n",
       "606645                      tt8734436,tt9615610  \n",
       "606646                                      NaN  \n",
       "606647                                tt8743182  \n",
       "\n",
       "[606648 rows x 6 columns]"
      ]
     },
     "execution_count": 4,
     "metadata": {},
     "output_type": "execute_result"
    }
   ],
   "source": [
    "# loading data of cast names\n",
    "cast_names = pd.read_csv('data/imdb.name.basics.csv.gz')\n",
    "cast_names"
   ]
  },
  {
   "cell_type": "code",
   "execution_count": 5,
   "id": "3cd2ff31",
   "metadata": {},
   "outputs": [
    {
     "data": {
      "text/html": [
       "<div>\n",
       "<style scoped>\n",
       "    .dataframe tbody tr th:only-of-type {\n",
       "        vertical-align: middle;\n",
       "    }\n",
       "\n",
       "    .dataframe tbody tr th {\n",
       "        vertical-align: top;\n",
       "    }\n",
       "\n",
       "    .dataframe thead th {\n",
       "        text-align: right;\n",
       "    }\n",
       "</style>\n",
       "<table border=\"1\" class=\"dataframe\">\n",
       "  <thead>\n",
       "    <tr style=\"text-align: right;\">\n",
       "      <th></th>\n",
       "      <th>title_id</th>\n",
       "      <th>ordering</th>\n",
       "      <th>title</th>\n",
       "      <th>region</th>\n",
       "      <th>language</th>\n",
       "      <th>types</th>\n",
       "      <th>attributes</th>\n",
       "      <th>is_original_title</th>\n",
       "    </tr>\n",
       "  </thead>\n",
       "  <tbody>\n",
       "    <tr>\n",
       "      <th>0</th>\n",
       "      <td>tt0369610</td>\n",
       "      <td>10</td>\n",
       "      <td>Джурасик свят</td>\n",
       "      <td>BG</td>\n",
       "      <td>bg</td>\n",
       "      <td>NaN</td>\n",
       "      <td>NaN</td>\n",
       "      <td>0.0</td>\n",
       "    </tr>\n",
       "    <tr>\n",
       "      <th>1</th>\n",
       "      <td>tt0369610</td>\n",
       "      <td>11</td>\n",
       "      <td>Jurashikku warudo</td>\n",
       "      <td>JP</td>\n",
       "      <td>NaN</td>\n",
       "      <td>imdbDisplay</td>\n",
       "      <td>NaN</td>\n",
       "      <td>0.0</td>\n",
       "    </tr>\n",
       "    <tr>\n",
       "      <th>2</th>\n",
       "      <td>tt0369610</td>\n",
       "      <td>12</td>\n",
       "      <td>Jurassic World: O Mundo dos Dinossauros</td>\n",
       "      <td>BR</td>\n",
       "      <td>NaN</td>\n",
       "      <td>imdbDisplay</td>\n",
       "      <td>NaN</td>\n",
       "      <td>0.0</td>\n",
       "    </tr>\n",
       "    <tr>\n",
       "      <th>3</th>\n",
       "      <td>tt0369610</td>\n",
       "      <td>13</td>\n",
       "      <td>O Mundo dos Dinossauros</td>\n",
       "      <td>BR</td>\n",
       "      <td>NaN</td>\n",
       "      <td>NaN</td>\n",
       "      <td>short title</td>\n",
       "      <td>0.0</td>\n",
       "    </tr>\n",
       "    <tr>\n",
       "      <th>4</th>\n",
       "      <td>tt0369610</td>\n",
       "      <td>14</td>\n",
       "      <td>Jurassic World</td>\n",
       "      <td>FR</td>\n",
       "      <td>NaN</td>\n",
       "      <td>imdbDisplay</td>\n",
       "      <td>NaN</td>\n",
       "      <td>0.0</td>\n",
       "    </tr>\n",
       "  </tbody>\n",
       "</table>\n",
       "</div>"
      ],
      "text/plain": [
       "    title_id  ordering                                    title region   \n",
       "0  tt0369610        10                            Джурасик свят     BG  \\\n",
       "1  tt0369610        11                        Jurashikku warudo     JP   \n",
       "2  tt0369610        12  Jurassic World: O Mundo dos Dinossauros     BR   \n",
       "3  tt0369610        13                  O Mundo dos Dinossauros     BR   \n",
       "4  tt0369610        14                           Jurassic World     FR   \n",
       "\n",
       "  language        types   attributes  is_original_title  \n",
       "0       bg          NaN          NaN                0.0  \n",
       "1      NaN  imdbDisplay          NaN                0.0  \n",
       "2      NaN  imdbDisplay          NaN                0.0  \n",
       "3      NaN          NaN  short title                0.0  \n",
       "4      NaN  imdbDisplay          NaN                0.0  "
      ]
     },
     "execution_count": 5,
     "metadata": {},
     "output_type": "execute_result"
    }
   ],
   "source": [
    "# loading data for movie titles\n",
    "movie_title = pd.read_csv('data/imdb.title.akas.csv.gz')\n",
    "movie_title.head()"
   ]
  },
  {
   "cell_type": "code",
   "execution_count": 6,
   "id": "91e77b34",
   "metadata": {},
   "outputs": [
    {
     "data": {
      "text/html": [
       "<div>\n",
       "<style scoped>\n",
       "    .dataframe tbody tr th:only-of-type {\n",
       "        vertical-align: middle;\n",
       "    }\n",
       "\n",
       "    .dataframe tbody tr th {\n",
       "        vertical-align: top;\n",
       "    }\n",
       "\n",
       "    .dataframe thead th {\n",
       "        text-align: right;\n",
       "    }\n",
       "</style>\n",
       "<table border=\"1\" class=\"dataframe\">\n",
       "  <thead>\n",
       "    <tr style=\"text-align: right;\">\n",
       "      <th></th>\n",
       "      <th>tconst</th>\n",
       "      <th>directors</th>\n",
       "      <th>writers</th>\n",
       "    </tr>\n",
       "  </thead>\n",
       "  <tbody>\n",
       "    <tr>\n",
       "      <th>0</th>\n",
       "      <td>tt0285252</td>\n",
       "      <td>nm0899854</td>\n",
       "      <td>nm0899854</td>\n",
       "    </tr>\n",
       "    <tr>\n",
       "      <th>1</th>\n",
       "      <td>tt0438973</td>\n",
       "      <td>NaN</td>\n",
       "      <td>nm0175726,nm1802864</td>\n",
       "    </tr>\n",
       "    <tr>\n",
       "      <th>2</th>\n",
       "      <td>tt0462036</td>\n",
       "      <td>nm1940585</td>\n",
       "      <td>nm1940585</td>\n",
       "    </tr>\n",
       "    <tr>\n",
       "      <th>3</th>\n",
       "      <td>tt0835418</td>\n",
       "      <td>nm0151540</td>\n",
       "      <td>nm0310087,nm0841532</td>\n",
       "    </tr>\n",
       "    <tr>\n",
       "      <th>4</th>\n",
       "      <td>tt0878654</td>\n",
       "      <td>nm0089502,nm2291498,nm2292011</td>\n",
       "      <td>nm0284943</td>\n",
       "    </tr>\n",
       "  </tbody>\n",
       "</table>\n",
       "</div>"
      ],
      "text/plain": [
       "      tconst                      directors              writers\n",
       "0  tt0285252                      nm0899854            nm0899854\n",
       "1  tt0438973                            NaN  nm0175726,nm1802864\n",
       "2  tt0462036                      nm1940585            nm1940585\n",
       "3  tt0835418                      nm0151540  nm0310087,nm0841532\n",
       "4  tt0878654  nm0089502,nm2291498,nm2292011            nm0284943"
      ]
     },
     "execution_count": 6,
     "metadata": {},
     "output_type": "execute_result"
    }
   ],
   "source": [
    "# loading data for directors and writers\n",
    "crew_information = pd.read_csv('data/imdb.title.crew.csv.gz')\n",
    "crew_information.head()"
   ]
  },
  {
   "cell_type": "code",
   "execution_count": 7,
   "id": "850e5230",
   "metadata": {},
   "outputs": [
    {
     "data": {
      "text/html": [
       "<div>\n",
       "<style scoped>\n",
       "    .dataframe tbody tr th:only-of-type {\n",
       "        vertical-align: middle;\n",
       "    }\n",
       "\n",
       "    .dataframe tbody tr th {\n",
       "        vertical-align: top;\n",
       "    }\n",
       "\n",
       "    .dataframe thead th {\n",
       "        text-align: right;\n",
       "    }\n",
       "</style>\n",
       "<table border=\"1\" class=\"dataframe\">\n",
       "  <thead>\n",
       "    <tr style=\"text-align: right;\">\n",
       "      <th></th>\n",
       "      <th>tconst</th>\n",
       "      <th>ordering</th>\n",
       "      <th>nconst</th>\n",
       "      <th>category</th>\n",
       "      <th>job</th>\n",
       "      <th>characters</th>\n",
       "    </tr>\n",
       "  </thead>\n",
       "  <tbody>\n",
       "    <tr>\n",
       "      <th>0</th>\n",
       "      <td>tt0111414</td>\n",
       "      <td>1</td>\n",
       "      <td>nm0246005</td>\n",
       "      <td>actor</td>\n",
       "      <td>NaN</td>\n",
       "      <td>[\"The Man\"]</td>\n",
       "    </tr>\n",
       "    <tr>\n",
       "      <th>1</th>\n",
       "      <td>tt0111414</td>\n",
       "      <td>2</td>\n",
       "      <td>nm0398271</td>\n",
       "      <td>director</td>\n",
       "      <td>NaN</td>\n",
       "      <td>NaN</td>\n",
       "    </tr>\n",
       "    <tr>\n",
       "      <th>2</th>\n",
       "      <td>tt0111414</td>\n",
       "      <td>3</td>\n",
       "      <td>nm3739909</td>\n",
       "      <td>producer</td>\n",
       "      <td>producer</td>\n",
       "      <td>NaN</td>\n",
       "    </tr>\n",
       "    <tr>\n",
       "      <th>3</th>\n",
       "      <td>tt0323808</td>\n",
       "      <td>10</td>\n",
       "      <td>nm0059247</td>\n",
       "      <td>editor</td>\n",
       "      <td>NaN</td>\n",
       "      <td>NaN</td>\n",
       "    </tr>\n",
       "    <tr>\n",
       "      <th>4</th>\n",
       "      <td>tt0323808</td>\n",
       "      <td>1</td>\n",
       "      <td>nm3579312</td>\n",
       "      <td>actress</td>\n",
       "      <td>NaN</td>\n",
       "      <td>[\"Beth Boothby\"]</td>\n",
       "    </tr>\n",
       "  </tbody>\n",
       "</table>\n",
       "</div>"
      ],
      "text/plain": [
       "      tconst  ordering     nconst  category       job        characters\n",
       "0  tt0111414         1  nm0246005     actor       NaN       [\"The Man\"]\n",
       "1  tt0111414         2  nm0398271  director       NaN               NaN\n",
       "2  tt0111414         3  nm3739909  producer  producer               NaN\n",
       "3  tt0323808        10  nm0059247    editor       NaN               NaN\n",
       "4  tt0323808         1  nm3579312   actress       NaN  [\"Beth Boothby\"]"
      ]
     },
     "execution_count": 7,
     "metadata": {},
     "output_type": "execute_result"
    }
   ],
   "source": [
    "#loading data of individuals involved and thier roles\n",
    "principals_information = pd.read_csv('data/imdb.title.principals.csv.gz')\n",
    "principals_information.head()"
   ]
  },
  {
   "cell_type": "code",
   "execution_count": 8,
   "id": "8e6baf84",
   "metadata": {
    "scrolled": true
   },
   "outputs": [
    {
     "data": {
      "text/html": [
       "<div>\n",
       "<style scoped>\n",
       "    .dataframe tbody tr th:only-of-type {\n",
       "        vertical-align: middle;\n",
       "    }\n",
       "\n",
       "    .dataframe tbody tr th {\n",
       "        vertical-align: top;\n",
       "    }\n",
       "\n",
       "    .dataframe thead th {\n",
       "        text-align: right;\n",
       "    }\n",
       "</style>\n",
       "<table border=\"1\" class=\"dataframe\">\n",
       "  <thead>\n",
       "    <tr style=\"text-align: right;\">\n",
       "      <th></th>\n",
       "      <th>tconst</th>\n",
       "      <th>averagerating</th>\n",
       "      <th>numvotes</th>\n",
       "    </tr>\n",
       "  </thead>\n",
       "  <tbody>\n",
       "    <tr>\n",
       "      <th>0</th>\n",
       "      <td>tt10356526</td>\n",
       "      <td>8.3</td>\n",
       "      <td>31</td>\n",
       "    </tr>\n",
       "    <tr>\n",
       "      <th>1</th>\n",
       "      <td>tt10384606</td>\n",
       "      <td>8.9</td>\n",
       "      <td>559</td>\n",
       "    </tr>\n",
       "    <tr>\n",
       "      <th>2</th>\n",
       "      <td>tt1042974</td>\n",
       "      <td>6.4</td>\n",
       "      <td>20</td>\n",
       "    </tr>\n",
       "    <tr>\n",
       "      <th>3</th>\n",
       "      <td>tt1043726</td>\n",
       "      <td>4.2</td>\n",
       "      <td>50352</td>\n",
       "    </tr>\n",
       "    <tr>\n",
       "      <th>4</th>\n",
       "      <td>tt1060240</td>\n",
       "      <td>6.5</td>\n",
       "      <td>21</td>\n",
       "    </tr>\n",
       "  </tbody>\n",
       "</table>\n",
       "</div>"
      ],
      "text/plain": [
       "       tconst  averagerating  numvotes\n",
       "0  tt10356526            8.3        31\n",
       "1  tt10384606            8.9       559\n",
       "2   tt1042974            6.4        20\n",
       "3   tt1043726            4.2     50352\n",
       "4   tt1060240            6.5        21"
      ]
     },
     "execution_count": 8,
     "metadata": {},
     "output_type": "execute_result"
    }
   ],
   "source": [
    "# loading data for movie ratings\n",
    "movie_ratings = pd.read_csv('data/imdb.title.ratings.csv.gz')\n",
    "movie_ratings.head()"
   ]
  },
  {
   "cell_type": "code",
   "execution_count": 9,
   "id": "5142fdf7",
   "metadata": {
    "scrolled": true
   },
   "outputs": [
    {
     "data": {
      "text/html": [
       "<div>\n",
       "<style scoped>\n",
       "    .dataframe tbody tr th:only-of-type {\n",
       "        vertical-align: middle;\n",
       "    }\n",
       "\n",
       "    .dataframe tbody tr th {\n",
       "        vertical-align: top;\n",
       "    }\n",
       "\n",
       "    .dataframe thead th {\n",
       "        text-align: right;\n",
       "    }\n",
       "</style>\n",
       "<table border=\"1\" class=\"dataframe\">\n",
       "  <thead>\n",
       "    <tr style=\"text-align: right;\">\n",
       "      <th></th>\n",
       "      <th>id</th>\n",
       "      <th>synopsis</th>\n",
       "      <th>rating</th>\n",
       "      <th>genre</th>\n",
       "      <th>director</th>\n",
       "      <th>writer</th>\n",
       "      <th>theater_date</th>\n",
       "      <th>dvd_date</th>\n",
       "      <th>currency</th>\n",
       "      <th>box_office</th>\n",
       "      <th>runtime</th>\n",
       "      <th>studio</th>\n",
       "    </tr>\n",
       "  </thead>\n",
       "  <tbody>\n",
       "    <tr>\n",
       "      <th>0</th>\n",
       "      <td>1</td>\n",
       "      <td>This gritty, fast-paced, and innovative police...</td>\n",
       "      <td>R</td>\n",
       "      <td>Action and Adventure|Classics|Drama</td>\n",
       "      <td>William Friedkin</td>\n",
       "      <td>Ernest Tidyman</td>\n",
       "      <td>Oct 9, 1971</td>\n",
       "      <td>Sep 25, 2001</td>\n",
       "      <td>NaN</td>\n",
       "      <td>NaN</td>\n",
       "      <td>104 minutes</td>\n",
       "      <td>NaN</td>\n",
       "    </tr>\n",
       "    <tr>\n",
       "      <th>1</th>\n",
       "      <td>3</td>\n",
       "      <td>New York City, not-too-distant-future: Eric Pa...</td>\n",
       "      <td>R</td>\n",
       "      <td>Drama|Science Fiction and Fantasy</td>\n",
       "      <td>David Cronenberg</td>\n",
       "      <td>David Cronenberg|Don DeLillo</td>\n",
       "      <td>Aug 17, 2012</td>\n",
       "      <td>Jan 1, 2013</td>\n",
       "      <td>$</td>\n",
       "      <td>600,000</td>\n",
       "      <td>108 minutes</td>\n",
       "      <td>Entertainment One</td>\n",
       "    </tr>\n",
       "    <tr>\n",
       "      <th>2</th>\n",
       "      <td>5</td>\n",
       "      <td>Illeana Douglas delivers a superb performance ...</td>\n",
       "      <td>R</td>\n",
       "      <td>Drama|Musical and Performing Arts</td>\n",
       "      <td>Allison Anders</td>\n",
       "      <td>Allison Anders</td>\n",
       "      <td>Sep 13, 1996</td>\n",
       "      <td>Apr 18, 2000</td>\n",
       "      <td>NaN</td>\n",
       "      <td>NaN</td>\n",
       "      <td>116 minutes</td>\n",
       "      <td>NaN</td>\n",
       "    </tr>\n",
       "    <tr>\n",
       "      <th>3</th>\n",
       "      <td>6</td>\n",
       "      <td>Michael Douglas runs afoul of a treacherous su...</td>\n",
       "      <td>R</td>\n",
       "      <td>Drama|Mystery and Suspense</td>\n",
       "      <td>Barry Levinson</td>\n",
       "      <td>Paul Attanasio|Michael Crichton</td>\n",
       "      <td>Dec 9, 1994</td>\n",
       "      <td>Aug 27, 1997</td>\n",
       "      <td>NaN</td>\n",
       "      <td>NaN</td>\n",
       "      <td>128 minutes</td>\n",
       "      <td>NaN</td>\n",
       "    </tr>\n",
       "    <tr>\n",
       "      <th>4</th>\n",
       "      <td>7</td>\n",
       "      <td>NaN</td>\n",
       "      <td>NR</td>\n",
       "      <td>Drama|Romance</td>\n",
       "      <td>Rodney Bennett</td>\n",
       "      <td>Giles Cooper</td>\n",
       "      <td>NaN</td>\n",
       "      <td>NaN</td>\n",
       "      <td>NaN</td>\n",
       "      <td>NaN</td>\n",
       "      <td>200 minutes</td>\n",
       "      <td>NaN</td>\n",
       "    </tr>\n",
       "  </tbody>\n",
       "</table>\n",
       "</div>"
      ],
      "text/plain": [
       "   id                                           synopsis rating   \n",
       "0   1  This gritty, fast-paced, and innovative police...      R  \\\n",
       "1   3  New York City, not-too-distant-future: Eric Pa...      R   \n",
       "2   5  Illeana Douglas delivers a superb performance ...      R   \n",
       "3   6  Michael Douglas runs afoul of a treacherous su...      R   \n",
       "4   7                                                NaN     NR   \n",
       "\n",
       "                                 genre          director   \n",
       "0  Action and Adventure|Classics|Drama  William Friedkin  \\\n",
       "1    Drama|Science Fiction and Fantasy  David Cronenberg   \n",
       "2    Drama|Musical and Performing Arts    Allison Anders   \n",
       "3           Drama|Mystery and Suspense    Barry Levinson   \n",
       "4                        Drama|Romance    Rodney Bennett   \n",
       "\n",
       "                            writer  theater_date      dvd_date currency   \n",
       "0                   Ernest Tidyman   Oct 9, 1971  Sep 25, 2001      NaN  \\\n",
       "1     David Cronenberg|Don DeLillo  Aug 17, 2012   Jan 1, 2013        $   \n",
       "2                   Allison Anders  Sep 13, 1996  Apr 18, 2000      NaN   \n",
       "3  Paul Attanasio|Michael Crichton   Dec 9, 1994  Aug 27, 1997      NaN   \n",
       "4                     Giles Cooper           NaN           NaN      NaN   \n",
       "\n",
       "  box_office      runtime             studio  \n",
       "0        NaN  104 minutes                NaN  \n",
       "1    600,000  108 minutes  Entertainment One  \n",
       "2        NaN  116 minutes                NaN  \n",
       "3        NaN  128 minutes                NaN  \n",
       "4        NaN  200 minutes                NaN  "
      ]
     },
     "execution_count": 9,
     "metadata": {},
     "output_type": "execute_result"
    }
   ],
   "source": [
    "# loading data for movie information\n",
    "movie_info = pd.read_csv('data/rt.movie_info.tsv.gz', delimiter='\\t')\n",
    "movie_info.head()"
   ]
  },
  {
   "cell_type": "code",
   "execution_count": 10,
   "id": "ffc02dff",
   "metadata": {},
   "outputs": [
    {
     "data": {
      "text/html": [
       "<div>\n",
       "<style scoped>\n",
       "    .dataframe tbody tr th:only-of-type {\n",
       "        vertical-align: middle;\n",
       "    }\n",
       "\n",
       "    .dataframe tbody tr th {\n",
       "        vertical-align: top;\n",
       "    }\n",
       "\n",
       "    .dataframe thead th {\n",
       "        text-align: right;\n",
       "    }\n",
       "</style>\n",
       "<table border=\"1\" class=\"dataframe\">\n",
       "  <thead>\n",
       "    <tr style=\"text-align: right;\">\n",
       "      <th></th>\n",
       "      <th>id</th>\n",
       "      <th>review</th>\n",
       "      <th>rating</th>\n",
       "      <th>fresh</th>\n",
       "      <th>critic</th>\n",
       "      <th>top_critic</th>\n",
       "      <th>publisher</th>\n",
       "      <th>date</th>\n",
       "    </tr>\n",
       "  </thead>\n",
       "  <tbody>\n",
       "    <tr>\n",
       "      <th>0</th>\n",
       "      <td>3</td>\n",
       "      <td>A distinctly gallows take on contemporary fina...</td>\n",
       "      <td>3/5</td>\n",
       "      <td>fresh</td>\n",
       "      <td>PJ Nabarro</td>\n",
       "      <td>0</td>\n",
       "      <td>Patrick Nabarro</td>\n",
       "      <td>November 10, 2018</td>\n",
       "    </tr>\n",
       "    <tr>\n",
       "      <th>1</th>\n",
       "      <td>3</td>\n",
       "      <td>It's an allegory in search of a meaning that n...</td>\n",
       "      <td>NaN</td>\n",
       "      <td>rotten</td>\n",
       "      <td>Annalee Newitz</td>\n",
       "      <td>0</td>\n",
       "      <td>io9.com</td>\n",
       "      <td>May 23, 2018</td>\n",
       "    </tr>\n",
       "    <tr>\n",
       "      <th>2</th>\n",
       "      <td>3</td>\n",
       "      <td>... life lived in a bubble in financial dealin...</td>\n",
       "      <td>NaN</td>\n",
       "      <td>fresh</td>\n",
       "      <td>Sean Axmaker</td>\n",
       "      <td>0</td>\n",
       "      <td>Stream on Demand</td>\n",
       "      <td>January 4, 2018</td>\n",
       "    </tr>\n",
       "    <tr>\n",
       "      <th>3</th>\n",
       "      <td>3</td>\n",
       "      <td>Continuing along a line introduced in last yea...</td>\n",
       "      <td>NaN</td>\n",
       "      <td>fresh</td>\n",
       "      <td>Daniel Kasman</td>\n",
       "      <td>0</td>\n",
       "      <td>MUBI</td>\n",
       "      <td>November 16, 2017</td>\n",
       "    </tr>\n",
       "    <tr>\n",
       "      <th>4</th>\n",
       "      <td>3</td>\n",
       "      <td>... a perverse twist on neorealism...</td>\n",
       "      <td>NaN</td>\n",
       "      <td>fresh</td>\n",
       "      <td>NaN</td>\n",
       "      <td>0</td>\n",
       "      <td>Cinema Scope</td>\n",
       "      <td>October 12, 2017</td>\n",
       "    </tr>\n",
       "  </tbody>\n",
       "</table>\n",
       "</div>"
      ],
      "text/plain": [
       "   id                                             review rating   fresh   \n",
       "0   3  A distinctly gallows take on contemporary fina...    3/5   fresh  \\\n",
       "1   3  It's an allegory in search of a meaning that n...    NaN  rotten   \n",
       "2   3  ... life lived in a bubble in financial dealin...    NaN   fresh   \n",
       "3   3  Continuing along a line introduced in last yea...    NaN   fresh   \n",
       "4   3             ... a perverse twist on neorealism...     NaN   fresh   \n",
       "\n",
       "           critic  top_critic         publisher               date  \n",
       "0      PJ Nabarro           0   Patrick Nabarro  November 10, 2018  \n",
       "1  Annalee Newitz           0           io9.com       May 23, 2018  \n",
       "2    Sean Axmaker           0  Stream on Demand    January 4, 2018  \n",
       "3   Daniel Kasman           0              MUBI  November 16, 2017  \n",
       "4             NaN           0      Cinema Scope   October 12, 2017  "
      ]
     },
     "execution_count": 10,
     "metadata": {},
     "output_type": "execute_result"
    }
   ],
   "source": [
    "# loading data for ratings and reviews\n",
    "ratings_reviews = pd.read_csv('data/rt.reviews.tsv.gz', delimiter='\\t', encoding='latin-1')\n",
    "ratings_reviews.head()"
   ]
  },
  {
   "cell_type": "code",
   "execution_count": 11,
   "id": "2d403ed3",
   "metadata": {
    "scrolled": true
   },
   "outputs": [
    {
     "data": {
      "text/html": [
       "<div>\n",
       "<style scoped>\n",
       "    .dataframe tbody tr th:only-of-type {\n",
       "        vertical-align: middle;\n",
       "    }\n",
       "\n",
       "    .dataframe tbody tr th {\n",
       "        vertical-align: top;\n",
       "    }\n",
       "\n",
       "    .dataframe thead th {\n",
       "        text-align: right;\n",
       "    }\n",
       "</style>\n",
       "<table border=\"1\" class=\"dataframe\">\n",
       "  <thead>\n",
       "    <tr style=\"text-align: right;\">\n",
       "      <th></th>\n",
       "      <th>genre_ids</th>\n",
       "      <th>id</th>\n",
       "      <th>original_language</th>\n",
       "      <th>original_title</th>\n",
       "      <th>popularity</th>\n",
       "      <th>release_date</th>\n",
       "      <th>title</th>\n",
       "      <th>vote_average</th>\n",
       "      <th>vote_count</th>\n",
       "    </tr>\n",
       "  </thead>\n",
       "  <tbody>\n",
       "    <tr>\n",
       "      <th>0</th>\n",
       "      <td>[12, 14, 10751]</td>\n",
       "      <td>12444</td>\n",
       "      <td>en</td>\n",
       "      <td>Harry Potter and the Deathly Hallows: Part 1</td>\n",
       "      <td>33.533</td>\n",
       "      <td>2010-11-19</td>\n",
       "      <td>Harry Potter and the Deathly Hallows: Part 1</td>\n",
       "      <td>7.7</td>\n",
       "      <td>10788</td>\n",
       "    </tr>\n",
       "    <tr>\n",
       "      <th>1</th>\n",
       "      <td>[14, 12, 16, 10751]</td>\n",
       "      <td>10191</td>\n",
       "      <td>en</td>\n",
       "      <td>How to Train Your Dragon</td>\n",
       "      <td>28.734</td>\n",
       "      <td>2010-03-26</td>\n",
       "      <td>How to Train Your Dragon</td>\n",
       "      <td>7.7</td>\n",
       "      <td>7610</td>\n",
       "    </tr>\n",
       "    <tr>\n",
       "      <th>2</th>\n",
       "      <td>[12, 28, 878]</td>\n",
       "      <td>10138</td>\n",
       "      <td>en</td>\n",
       "      <td>Iron Man 2</td>\n",
       "      <td>28.515</td>\n",
       "      <td>2010-05-07</td>\n",
       "      <td>Iron Man 2</td>\n",
       "      <td>6.8</td>\n",
       "      <td>12368</td>\n",
       "    </tr>\n",
       "    <tr>\n",
       "      <th>3</th>\n",
       "      <td>[16, 35, 10751]</td>\n",
       "      <td>862</td>\n",
       "      <td>en</td>\n",
       "      <td>Toy Story</td>\n",
       "      <td>28.005</td>\n",
       "      <td>1995-11-22</td>\n",
       "      <td>Toy Story</td>\n",
       "      <td>7.9</td>\n",
       "      <td>10174</td>\n",
       "    </tr>\n",
       "    <tr>\n",
       "      <th>4</th>\n",
       "      <td>[28, 878, 12]</td>\n",
       "      <td>27205</td>\n",
       "      <td>en</td>\n",
       "      <td>Inception</td>\n",
       "      <td>27.920</td>\n",
       "      <td>2010-07-16</td>\n",
       "      <td>Inception</td>\n",
       "      <td>8.3</td>\n",
       "      <td>22186</td>\n",
       "    </tr>\n",
       "  </tbody>\n",
       "</table>\n",
       "</div>"
      ],
      "text/plain": [
       "             genre_ids     id original_language   \n",
       "0      [12, 14, 10751]  12444                en  \\\n",
       "1  [14, 12, 16, 10751]  10191                en   \n",
       "2        [12, 28, 878]  10138                en   \n",
       "3      [16, 35, 10751]    862                en   \n",
       "4        [28, 878, 12]  27205                en   \n",
       "\n",
       "                                 original_title  popularity release_date   \n",
       "0  Harry Potter and the Deathly Hallows: Part 1      33.533   2010-11-19  \\\n",
       "1                      How to Train Your Dragon      28.734   2010-03-26   \n",
       "2                                    Iron Man 2      28.515   2010-05-07   \n",
       "3                                     Toy Story      28.005   1995-11-22   \n",
       "4                                     Inception      27.920   2010-07-16   \n",
       "\n",
       "                                          title  vote_average  vote_count  \n",
       "0  Harry Potter and the Deathly Hallows: Part 1           7.7       10788  \n",
       "1                      How to Train Your Dragon           7.7        7610  \n",
       "2                                    Iron Man 2           6.8       12368  \n",
       "3                                     Toy Story           7.9       10174  \n",
       "4                                     Inception           8.3       22186  "
      ]
     },
     "execution_count": 11,
     "metadata": {},
     "output_type": "execute_result"
    }
   ],
   "source": [
    "tmdb_movies = pd.read_csv('data/tmdb.movies.csv.gz', index_col=0)\n",
    "tmdb_movies.head()"
   ]
  },
  {
   "cell_type": "code",
   "execution_count": 12,
   "id": "d165f4b4",
   "metadata": {},
   "outputs": [
    {
     "data": {
      "text/html": [
       "<div>\n",
       "<style scoped>\n",
       "    .dataframe tbody tr th:only-of-type {\n",
       "        vertical-align: middle;\n",
       "    }\n",
       "\n",
       "    .dataframe tbody tr th {\n",
       "        vertical-align: top;\n",
       "    }\n",
       "\n",
       "    .dataframe thead th {\n",
       "        text-align: right;\n",
       "    }\n",
       "</style>\n",
       "<table border=\"1\" class=\"dataframe\">\n",
       "  <thead>\n",
       "    <tr style=\"text-align: right;\">\n",
       "      <th></th>\n",
       "      <th>id</th>\n",
       "      <th>release_date</th>\n",
       "      <th>movie</th>\n",
       "      <th>production_budget</th>\n",
       "      <th>domestic_gross</th>\n",
       "      <th>worldwide_gross</th>\n",
       "    </tr>\n",
       "  </thead>\n",
       "  <tbody>\n",
       "    <tr>\n",
       "      <th>0</th>\n",
       "      <td>1</td>\n",
       "      <td>Dec 18, 2009</td>\n",
       "      <td>Avatar</td>\n",
       "      <td>$425,000,000</td>\n",
       "      <td>$760,507,625</td>\n",
       "      <td>$2,776,345,279</td>\n",
       "    </tr>\n",
       "    <tr>\n",
       "      <th>1</th>\n",
       "      <td>2</td>\n",
       "      <td>May 20, 2011</td>\n",
       "      <td>Pirates of the Caribbean: On Stranger Tides</td>\n",
       "      <td>$410,600,000</td>\n",
       "      <td>$241,063,875</td>\n",
       "      <td>$1,045,663,875</td>\n",
       "    </tr>\n",
       "    <tr>\n",
       "      <th>2</th>\n",
       "      <td>3</td>\n",
       "      <td>Jun 7, 2019</td>\n",
       "      <td>Dark Phoenix</td>\n",
       "      <td>$350,000,000</td>\n",
       "      <td>$42,762,350</td>\n",
       "      <td>$149,762,350</td>\n",
       "    </tr>\n",
       "    <tr>\n",
       "      <th>3</th>\n",
       "      <td>4</td>\n",
       "      <td>May 1, 2015</td>\n",
       "      <td>Avengers: Age of Ultron</td>\n",
       "      <td>$330,600,000</td>\n",
       "      <td>$459,005,868</td>\n",
       "      <td>$1,403,013,963</td>\n",
       "    </tr>\n",
       "    <tr>\n",
       "      <th>4</th>\n",
       "      <td>5</td>\n",
       "      <td>Dec 15, 2017</td>\n",
       "      <td>Star Wars Ep. VIII: The Last Jedi</td>\n",
       "      <td>$317,000,000</td>\n",
       "      <td>$620,181,382</td>\n",
       "      <td>$1,316,721,747</td>\n",
       "    </tr>\n",
       "  </tbody>\n",
       "</table>\n",
       "</div>"
      ],
      "text/plain": [
       "   id  release_date                                        movie   \n",
       "0   1  Dec 18, 2009                                       Avatar  \\\n",
       "1   2  May 20, 2011  Pirates of the Caribbean: On Stranger Tides   \n",
       "2   3   Jun 7, 2019                                 Dark Phoenix   \n",
       "3   4   May 1, 2015                      Avengers: Age of Ultron   \n",
       "4   5  Dec 15, 2017            Star Wars Ep. VIII: The Last Jedi   \n",
       "\n",
       "  production_budget domestic_gross worldwide_gross  \n",
       "0      $425,000,000   $760,507,625  $2,776,345,279  \n",
       "1      $410,600,000   $241,063,875  $1,045,663,875  \n",
       "2      $350,000,000    $42,762,350    $149,762,350  \n",
       "3      $330,600,000   $459,005,868  $1,403,013,963  \n",
       "4      $317,000,000   $620,181,382  $1,316,721,747  "
      ]
     },
     "execution_count": 12,
     "metadata": {},
     "output_type": "execute_result"
    }
   ],
   "source": [
    "# loading data for movie budget\n",
    "movie_budget = pd.read_csv('data/tn.movie_budgets.csv.gz')\n",
    "movie_budget.head()"
   ]
  },
  {
   "cell_type": "markdown",
   "id": "6f17c5fd",
   "metadata": {},
   "source": [
    "## 4. DATA WRANGLING\n",
    "\n",
    "  ### 4.1 Dropping columns\n",
    "  \n",
    "Out of the several datasets that were collected, only some features and rows are relevant to this process. Therefore, in this step, the features that are not required from each dataset will be dropped. The remaining datasets will then be joined."
   ]
  },
  {
   "cell_type": "code",
   "execution_count": 13,
   "id": "17bc7022",
   "metadata": {},
   "outputs": [
    {
     "data": {
      "text/html": [
       "<div>\n",
       "<style scoped>\n",
       "    .dataframe tbody tr th:only-of-type {\n",
       "        vertical-align: middle;\n",
       "    }\n",
       "\n",
       "    .dataframe tbody tr th {\n",
       "        vertical-align: top;\n",
       "    }\n",
       "\n",
       "    .dataframe thead th {\n",
       "        text-align: right;\n",
       "    }\n",
       "</style>\n",
       "<table border=\"1\" class=\"dataframe\">\n",
       "  <thead>\n",
       "    <tr style=\"text-align: right;\">\n",
       "      <th></th>\n",
       "      <th>title</th>\n",
       "      <th>domestic_gross</th>\n",
       "      <th>foreign_gross</th>\n",
       "      <th>year</th>\n",
       "    </tr>\n",
       "  </thead>\n",
       "  <tbody>\n",
       "    <tr>\n",
       "      <th>0</th>\n",
       "      <td>Toy Story 3</td>\n",
       "      <td>415000000.0</td>\n",
       "      <td>652000000</td>\n",
       "      <td>2010</td>\n",
       "    </tr>\n",
       "    <tr>\n",
       "      <th>1</th>\n",
       "      <td>Alice in Wonderland (2010)</td>\n",
       "      <td>334200000.0</td>\n",
       "      <td>691300000</td>\n",
       "      <td>2010</td>\n",
       "    </tr>\n",
       "    <tr>\n",
       "      <th>2</th>\n",
       "      <td>Harry Potter and the Deathly Hallows Part 1</td>\n",
       "      <td>296000000.0</td>\n",
       "      <td>664300000</td>\n",
       "      <td>2010</td>\n",
       "    </tr>\n",
       "    <tr>\n",
       "      <th>3</th>\n",
       "      <td>Inception</td>\n",
       "      <td>292600000.0</td>\n",
       "      <td>535700000</td>\n",
       "      <td>2010</td>\n",
       "    </tr>\n",
       "    <tr>\n",
       "      <th>4</th>\n",
       "      <td>Shrek Forever After</td>\n",
       "      <td>238700000.0</td>\n",
       "      <td>513900000</td>\n",
       "      <td>2010</td>\n",
       "    </tr>\n",
       "  </tbody>\n",
       "</table>\n",
       "</div>"
      ],
      "text/plain": [
       "                                         title  domestic_gross foreign_gross   \n",
       "0                                  Toy Story 3     415000000.0     652000000  \\\n",
       "1                   Alice in Wonderland (2010)     334200000.0     691300000   \n",
       "2  Harry Potter and the Deathly Hallows Part 1     296000000.0     664300000   \n",
       "3                                    Inception     292600000.0     535700000   \n",
       "4                          Shrek Forever After     238700000.0     513900000   \n",
       "\n",
       "   year  \n",
       "0  2010  \n",
       "1  2010  \n",
       "2  2010  \n",
       "3  2010  \n",
       "4  2010  "
      ]
     },
     "execution_count": 13,
     "metadata": {},
     "output_type": "execute_result"
    }
   ],
   "source": [
    "# dropping the studio column from the data set\n",
    "new_bom_gross = bom_gross.drop(\"studio\", axis=1)\n",
    "new_bom_gross.head()"
   ]
  },
  {
   "cell_type": "code",
   "execution_count": 14,
   "id": "34727da9",
   "metadata": {},
   "outputs": [
    {
     "data": {
      "text/plain": [
       "(3387, 4)"
      ]
     },
     "execution_count": 14,
     "metadata": {},
     "output_type": "execute_result"
    }
   ],
   "source": [
    "new_bom_gross.shape\n"
   ]
  },
  {
   "cell_type": "markdown",
   "id": "6670203f",
   "metadata": {},
   "source": [
    "The new data set has 3387 rows and 4 columns"
   ]
  },
  {
   "cell_type": "code",
   "execution_count": 15,
   "id": "9a920f1f",
   "metadata": {},
   "outputs": [
    {
     "data": {
      "text/html": [
       "<div>\n",
       "<style scoped>\n",
       "    .dataframe tbody tr th:only-of-type {\n",
       "        vertical-align: middle;\n",
       "    }\n",
       "\n",
       "    .dataframe tbody tr th {\n",
       "        vertical-align: top;\n",
       "    }\n",
       "\n",
       "    .dataframe thead th {\n",
       "        text-align: right;\n",
       "    }\n",
       "</style>\n",
       "<table border=\"1\" class=\"dataframe\">\n",
       "  <thead>\n",
       "    <tr style=\"text-align: right;\">\n",
       "      <th></th>\n",
       "      <th>nconst</th>\n",
       "      <th>primary_name</th>\n",
       "      <th>known_for_titles</th>\n",
       "      <th>primary_profession</th>\n",
       "    </tr>\n",
       "  </thead>\n",
       "  <tbody>\n",
       "    <tr>\n",
       "      <th>0</th>\n",
       "      <td>nm0061671</td>\n",
       "      <td>Mary Ellen Bauder</td>\n",
       "      <td>tt0837562,tt2398241,tt0844471,tt0118553</td>\n",
       "      <td>miscellaneous,production_manager,producer</td>\n",
       "    </tr>\n",
       "    <tr>\n",
       "      <th>1</th>\n",
       "      <td>nm0061865</td>\n",
       "      <td>Joseph Bauer</td>\n",
       "      <td>tt0896534,tt6791238,tt0287072,tt1682940</td>\n",
       "      <td>composer,music_department,sound_department</td>\n",
       "    </tr>\n",
       "    <tr>\n",
       "      <th>2</th>\n",
       "      <td>nm0062070</td>\n",
       "      <td>Bruce Baum</td>\n",
       "      <td>tt1470654,tt0363631,tt0104030,tt0102898</td>\n",
       "      <td>miscellaneous,actor,writer</td>\n",
       "    </tr>\n",
       "    <tr>\n",
       "      <th>3</th>\n",
       "      <td>nm0062195</td>\n",
       "      <td>Axel Baumann</td>\n",
       "      <td>tt0114371,tt2004304,tt1618448,tt1224387</td>\n",
       "      <td>camera_department,cinematographer,art_department</td>\n",
       "    </tr>\n",
       "    <tr>\n",
       "      <th>4</th>\n",
       "      <td>nm0062798</td>\n",
       "      <td>Pete Baxter</td>\n",
       "      <td>tt0452644,tt0452692,tt3458030,tt2178256</td>\n",
       "      <td>production_designer,art_department,set_decorator</td>\n",
       "    </tr>\n",
       "  </tbody>\n",
       "</table>\n",
       "</div>"
      ],
      "text/plain": [
       "      nconst       primary_name                         known_for_titles   \n",
       "0  nm0061671  Mary Ellen Bauder  tt0837562,tt2398241,tt0844471,tt0118553  \\\n",
       "1  nm0061865       Joseph Bauer  tt0896534,tt6791238,tt0287072,tt1682940   \n",
       "2  nm0062070         Bruce Baum  tt1470654,tt0363631,tt0104030,tt0102898   \n",
       "3  nm0062195       Axel Baumann  tt0114371,tt2004304,tt1618448,tt1224387   \n",
       "4  nm0062798        Pete Baxter  tt0452644,tt0452692,tt3458030,tt2178256   \n",
       "\n",
       "                                 primary_profession  \n",
       "0         miscellaneous,production_manager,producer  \n",
       "1        composer,music_department,sound_department  \n",
       "2                        miscellaneous,actor,writer  \n",
       "3  camera_department,cinematographer,art_department  \n",
       "4  production_designer,art_department,set_decorator  "
      ]
     },
     "execution_count": 15,
     "metadata": {},
     "output_type": "execute_result"
    }
   ],
   "source": [
    "# selecting the relevant columns of the cast\n",
    "new_cast_names = cast_names[['nconst', 'primary_name', 'known_for_titles','primary_profession']]\n",
    "new_cast_names.head()"
   ]
  },
  {
   "cell_type": "code",
   "execution_count": 16,
   "id": "7e73e437",
   "metadata": {},
   "outputs": [
    {
     "data": {
      "text/plain": [
       "(606648, 4)"
      ]
     },
     "execution_count": 16,
     "metadata": {},
     "output_type": "execute_result"
    }
   ],
   "source": [
    "new_cast_names.shape"
   ]
  },
  {
   "cell_type": "markdown",
   "id": "648d8eed",
   "metadata": {},
   "source": [
    "The new data set has 606648 rows and 4 columns"
   ]
  },
  {
   "cell_type": "code",
   "execution_count": 17,
   "id": "4e48e2f7",
   "metadata": {
    "scrolled": true
   },
   "outputs": [
    {
     "data": {
      "text/html": [
       "<div>\n",
       "<style scoped>\n",
       "    .dataframe tbody tr th:only-of-type {\n",
       "        vertical-align: middle;\n",
       "    }\n",
       "\n",
       "    .dataframe tbody tr th {\n",
       "        vertical-align: top;\n",
       "    }\n",
       "\n",
       "    .dataframe thead th {\n",
       "        text-align: right;\n",
       "    }\n",
       "</style>\n",
       "<table border=\"1\" class=\"dataframe\">\n",
       "  <thead>\n",
       "    <tr style=\"text-align: right;\">\n",
       "      <th></th>\n",
       "      <th>title_id</th>\n",
       "      <th>ordering</th>\n",
       "      <th>title</th>\n",
       "      <th>is_original_title</th>\n",
       "    </tr>\n",
       "  </thead>\n",
       "  <tbody>\n",
       "    <tr>\n",
       "      <th>0</th>\n",
       "      <td>tt0369610</td>\n",
       "      <td>10</td>\n",
       "      <td>Джурасик свят</td>\n",
       "      <td>0.0</td>\n",
       "    </tr>\n",
       "    <tr>\n",
       "      <th>1</th>\n",
       "      <td>tt0369610</td>\n",
       "      <td>11</td>\n",
       "      <td>Jurashikku warudo</td>\n",
       "      <td>0.0</td>\n",
       "    </tr>\n",
       "    <tr>\n",
       "      <th>2</th>\n",
       "      <td>tt0369610</td>\n",
       "      <td>12</td>\n",
       "      <td>Jurassic World: O Mundo dos Dinossauros</td>\n",
       "      <td>0.0</td>\n",
       "    </tr>\n",
       "    <tr>\n",
       "      <th>3</th>\n",
       "      <td>tt0369610</td>\n",
       "      <td>13</td>\n",
       "      <td>O Mundo dos Dinossauros</td>\n",
       "      <td>0.0</td>\n",
       "    </tr>\n",
       "    <tr>\n",
       "      <th>4</th>\n",
       "      <td>tt0369610</td>\n",
       "      <td>14</td>\n",
       "      <td>Jurassic World</td>\n",
       "      <td>0.0</td>\n",
       "    </tr>\n",
       "  </tbody>\n",
       "</table>\n",
       "</div>"
      ],
      "text/plain": [
       "    title_id  ordering                                    title   \n",
       "0  tt0369610        10                            Джурасик свят  \\\n",
       "1  tt0369610        11                        Jurashikku warudo   \n",
       "2  tt0369610        12  Jurassic World: O Mundo dos Dinossauros   \n",
       "3  tt0369610        13                  O Mundo dos Dinossauros   \n",
       "4  tt0369610        14                           Jurassic World   \n",
       "\n",
       "   is_original_title  \n",
       "0                0.0  \n",
       "1                0.0  \n",
       "2                0.0  \n",
       "3                0.0  \n",
       "4                0.0  "
      ]
     },
     "execution_count": 17,
     "metadata": {},
     "output_type": "execute_result"
    }
   ],
   "source": [
    "# select the relevant columns\n",
    "new_movie_title = movie_title[['title_id', 'ordering', 'title', 'is_original_title']]\n",
    "new_movie_title.head()"
   ]
  },
  {
   "cell_type": "code",
   "execution_count": 18,
   "id": "3451e7f5",
   "metadata": {},
   "outputs": [
    {
     "data": {
      "text/plain": [
       "(331703, 4)"
      ]
     },
     "execution_count": 18,
     "metadata": {},
     "output_type": "execute_result"
    }
   ],
   "source": [
    "new_movie_title.shape"
   ]
  },
  {
   "cell_type": "markdown",
   "id": "56739dd5",
   "metadata": {},
   "source": [
    "The new data set has 331703 rows and 4 columns"
   ]
  },
  {
   "cell_type": "code",
   "execution_count": 19,
   "id": "807c82b5",
   "metadata": {
    "scrolled": true
   },
   "outputs": [
    {
     "data": {
      "text/html": [
       "<div>\n",
       "<style scoped>\n",
       "    .dataframe tbody tr th:only-of-type {\n",
       "        vertical-align: middle;\n",
       "    }\n",
       "\n",
       "    .dataframe tbody tr th {\n",
       "        vertical-align: top;\n",
       "    }\n",
       "\n",
       "    .dataframe thead th {\n",
       "        text-align: right;\n",
       "    }\n",
       "</style>\n",
       "<table border=\"1\" class=\"dataframe\">\n",
       "  <thead>\n",
       "    <tr style=\"text-align: right;\">\n",
       "      <th></th>\n",
       "      <th>tconst</th>\n",
       "      <th>ordering</th>\n",
       "      <th>nconst</th>\n",
       "      <th>category</th>\n",
       "    </tr>\n",
       "  </thead>\n",
       "  <tbody>\n",
       "    <tr>\n",
       "      <th>0</th>\n",
       "      <td>tt0111414</td>\n",
       "      <td>1</td>\n",
       "      <td>nm0246005</td>\n",
       "      <td>actor</td>\n",
       "    </tr>\n",
       "    <tr>\n",
       "      <th>1</th>\n",
       "      <td>tt0111414</td>\n",
       "      <td>2</td>\n",
       "      <td>nm0398271</td>\n",
       "      <td>director</td>\n",
       "    </tr>\n",
       "    <tr>\n",
       "      <th>2</th>\n",
       "      <td>tt0111414</td>\n",
       "      <td>3</td>\n",
       "      <td>nm3739909</td>\n",
       "      <td>producer</td>\n",
       "    </tr>\n",
       "    <tr>\n",
       "      <th>3</th>\n",
       "      <td>tt0323808</td>\n",
       "      <td>10</td>\n",
       "      <td>nm0059247</td>\n",
       "      <td>editor</td>\n",
       "    </tr>\n",
       "    <tr>\n",
       "      <th>4</th>\n",
       "      <td>tt0323808</td>\n",
       "      <td>1</td>\n",
       "      <td>nm3579312</td>\n",
       "      <td>actress</td>\n",
       "    </tr>\n",
       "  </tbody>\n",
       "</table>\n",
       "</div>"
      ],
      "text/plain": [
       "      tconst  ordering     nconst  category\n",
       "0  tt0111414         1  nm0246005     actor\n",
       "1  tt0111414         2  nm0398271  director\n",
       "2  tt0111414         3  nm3739909  producer\n",
       "3  tt0323808        10  nm0059247    editor\n",
       "4  tt0323808         1  nm3579312   actress"
      ]
     },
     "execution_count": 19,
     "metadata": {},
     "output_type": "execute_result"
    }
   ],
   "source": [
    "# dropping the irrelevant columns from the data set\n",
    "new_principals_information = principals_information.drop(['characters','job'], axis=1)\n",
    "new_principals_information.head()"
   ]
  },
  {
   "cell_type": "code",
   "execution_count": 20,
   "id": "34d313ed",
   "metadata": {},
   "outputs": [
    {
     "data": {
      "text/plain": [
       "(1028186, 4)"
      ]
     },
     "execution_count": 20,
     "metadata": {},
     "output_type": "execute_result"
    }
   ],
   "source": [
    "new_principals_information.shape"
   ]
  },
  {
   "cell_type": "markdown",
   "id": "66bffc78",
   "metadata": {},
   "source": [
    "The new data set has 1028186 rows and 4 columns"
   ]
  },
  {
   "cell_type": "code",
   "execution_count": 21,
   "id": "876ddae7",
   "metadata": {
    "scrolled": true
   },
   "outputs": [
    {
     "data": {
      "text/html": [
       "<div>\n",
       "<style scoped>\n",
       "    .dataframe tbody tr th:only-of-type {\n",
       "        vertical-align: middle;\n",
       "    }\n",
       "\n",
       "    .dataframe tbody tr th {\n",
       "        vertical-align: top;\n",
       "    }\n",
       "\n",
       "    .dataframe thead th {\n",
       "        text-align: right;\n",
       "    }\n",
       "</style>\n",
       "<table border=\"1\" class=\"dataframe\">\n",
       "  <thead>\n",
       "    <tr style=\"text-align: right;\">\n",
       "      <th></th>\n",
       "      <th>id</th>\n",
       "      <th>genre</th>\n",
       "      <th>director</th>\n",
       "      <th>writer</th>\n",
       "    </tr>\n",
       "  </thead>\n",
       "  <tbody>\n",
       "    <tr>\n",
       "      <th>0</th>\n",
       "      <td>1</td>\n",
       "      <td>Action and Adventure|Classics|Drama</td>\n",
       "      <td>William Friedkin</td>\n",
       "      <td>Ernest Tidyman</td>\n",
       "    </tr>\n",
       "    <tr>\n",
       "      <th>1</th>\n",
       "      <td>3</td>\n",
       "      <td>Drama|Science Fiction and Fantasy</td>\n",
       "      <td>David Cronenberg</td>\n",
       "      <td>David Cronenberg|Don DeLillo</td>\n",
       "    </tr>\n",
       "    <tr>\n",
       "      <th>2</th>\n",
       "      <td>5</td>\n",
       "      <td>Drama|Musical and Performing Arts</td>\n",
       "      <td>Allison Anders</td>\n",
       "      <td>Allison Anders</td>\n",
       "    </tr>\n",
       "    <tr>\n",
       "      <th>3</th>\n",
       "      <td>6</td>\n",
       "      <td>Drama|Mystery and Suspense</td>\n",
       "      <td>Barry Levinson</td>\n",
       "      <td>Paul Attanasio|Michael Crichton</td>\n",
       "    </tr>\n",
       "    <tr>\n",
       "      <th>4</th>\n",
       "      <td>7</td>\n",
       "      <td>Drama|Romance</td>\n",
       "      <td>Rodney Bennett</td>\n",
       "      <td>Giles Cooper</td>\n",
       "    </tr>\n",
       "  </tbody>\n",
       "</table>\n",
       "</div>"
      ],
      "text/plain": [
       "   id                                genre          director   \n",
       "0   1  Action and Adventure|Classics|Drama  William Friedkin  \\\n",
       "1   3    Drama|Science Fiction and Fantasy  David Cronenberg   \n",
       "2   5    Drama|Musical and Performing Arts    Allison Anders   \n",
       "3   6           Drama|Mystery and Suspense    Barry Levinson   \n",
       "4   7                        Drama|Romance    Rodney Bennett   \n",
       "\n",
       "                            writer  \n",
       "0                   Ernest Tidyman  \n",
       "1     David Cronenberg|Don DeLillo  \n",
       "2                   Allison Anders  \n",
       "3  Paul Attanasio|Michael Crichton  \n",
       "4                     Giles Cooper  "
      ]
     },
     "execution_count": 21,
     "metadata": {},
     "output_type": "execute_result"
    }
   ],
   "source": [
    "# selecting useful columns\n",
    "new_movie_info = movie_info[['id', 'genre', 'director', 'writer']]\n",
    "new_movie_info.head()"
   ]
  },
  {
   "cell_type": "code",
   "execution_count": 22,
   "id": "36e16987",
   "metadata": {},
   "outputs": [
    {
     "data": {
      "text/plain": [
       "(1560, 4)"
      ]
     },
     "execution_count": 22,
     "metadata": {},
     "output_type": "execute_result"
    }
   ],
   "source": [
    "new_movie_info.shape"
   ]
  },
  {
   "cell_type": "markdown",
   "id": "52c16c23",
   "metadata": {},
   "source": [
    "The new data set has 1560 rows and 4 columns"
   ]
  },
  {
   "cell_type": "code",
   "execution_count": 23,
   "id": "0ccf6b25",
   "metadata": {},
   "outputs": [
    {
     "data": {
      "text/html": [
       "<div>\n",
       "<style scoped>\n",
       "    .dataframe tbody tr th:only-of-type {\n",
       "        vertical-align: middle;\n",
       "    }\n",
       "\n",
       "    .dataframe tbody tr th {\n",
       "        vertical-align: top;\n",
       "    }\n",
       "\n",
       "    .dataframe thead th {\n",
       "        text-align: right;\n",
       "    }\n",
       "</style>\n",
       "<table border=\"1\" class=\"dataframe\">\n",
       "  <thead>\n",
       "    <tr style=\"text-align: right;\">\n",
       "      <th></th>\n",
       "      <th>id</th>\n",
       "      <th>rating</th>\n",
       "      <th>top_critic</th>\n",
       "      <th>date</th>\n",
       "    </tr>\n",
       "  </thead>\n",
       "  <tbody>\n",
       "    <tr>\n",
       "      <th>0</th>\n",
       "      <td>3</td>\n",
       "      <td>3/5</td>\n",
       "      <td>0</td>\n",
       "      <td>November 10, 2018</td>\n",
       "    </tr>\n",
       "    <tr>\n",
       "      <th>1</th>\n",
       "      <td>3</td>\n",
       "      <td>NaN</td>\n",
       "      <td>0</td>\n",
       "      <td>May 23, 2018</td>\n",
       "    </tr>\n",
       "    <tr>\n",
       "      <th>2</th>\n",
       "      <td>3</td>\n",
       "      <td>NaN</td>\n",
       "      <td>0</td>\n",
       "      <td>January 4, 2018</td>\n",
       "    </tr>\n",
       "    <tr>\n",
       "      <th>3</th>\n",
       "      <td>3</td>\n",
       "      <td>NaN</td>\n",
       "      <td>0</td>\n",
       "      <td>November 16, 2017</td>\n",
       "    </tr>\n",
       "    <tr>\n",
       "      <th>4</th>\n",
       "      <td>3</td>\n",
       "      <td>NaN</td>\n",
       "      <td>0</td>\n",
       "      <td>October 12, 2017</td>\n",
       "    </tr>\n",
       "    <tr>\n",
       "      <th>...</th>\n",
       "      <td>...</td>\n",
       "      <td>...</td>\n",
       "      <td>...</td>\n",
       "      <td>...</td>\n",
       "    </tr>\n",
       "    <tr>\n",
       "      <th>54427</th>\n",
       "      <td>2000</td>\n",
       "      <td>NaN</td>\n",
       "      <td>1</td>\n",
       "      <td>September 24, 2002</td>\n",
       "    </tr>\n",
       "    <tr>\n",
       "      <th>54428</th>\n",
       "      <td>2000</td>\n",
       "      <td>1/5</td>\n",
       "      <td>0</td>\n",
       "      <td>September 21, 2005</td>\n",
       "    </tr>\n",
       "    <tr>\n",
       "      <th>54429</th>\n",
       "      <td>2000</td>\n",
       "      <td>2/5</td>\n",
       "      <td>0</td>\n",
       "      <td>July 17, 2005</td>\n",
       "    </tr>\n",
       "    <tr>\n",
       "      <th>54430</th>\n",
       "      <td>2000</td>\n",
       "      <td>2.5/5</td>\n",
       "      <td>0</td>\n",
       "      <td>September 7, 2003</td>\n",
       "    </tr>\n",
       "    <tr>\n",
       "      <th>54431</th>\n",
       "      <td>2000</td>\n",
       "      <td>3/5</td>\n",
       "      <td>0</td>\n",
       "      <td>November 12, 2002</td>\n",
       "    </tr>\n",
       "  </tbody>\n",
       "</table>\n",
       "<p>54432 rows × 4 columns</p>\n",
       "</div>"
      ],
      "text/plain": [
       "         id rating  top_critic                date\n",
       "0         3    3/5           0   November 10, 2018\n",
       "1         3    NaN           0        May 23, 2018\n",
       "2         3    NaN           0     January 4, 2018\n",
       "3         3    NaN           0   November 16, 2017\n",
       "4         3    NaN           0    October 12, 2017\n",
       "...     ...    ...         ...                 ...\n",
       "54427  2000    NaN           1  September 24, 2002\n",
       "54428  2000    1/5           0  September 21, 2005\n",
       "54429  2000    2/5           0       July 17, 2005\n",
       "54430  2000  2.5/5           0   September 7, 2003\n",
       "54431  2000    3/5           0   November 12, 2002\n",
       "\n",
       "[54432 rows x 4 columns]"
      ]
     },
     "execution_count": 23,
     "metadata": {},
     "output_type": "execute_result"
    }
   ],
   "source": [
    "# selecting relevant columns for ratings and reviews\n",
    "new_ratings_reviews = ratings_reviews[['id', 'rating', 'top_critic', 'date']]\n",
    "new_ratings_reviews"
   ]
  },
  {
   "cell_type": "code",
   "execution_count": 24,
   "id": "38322d5c",
   "metadata": {},
   "outputs": [
    {
     "data": {
      "text/plain": [
       "(54432, 4)"
      ]
     },
     "execution_count": 24,
     "metadata": {},
     "output_type": "execute_result"
    }
   ],
   "source": [
    "new_ratings_reviews.shape"
   ]
  },
  {
   "cell_type": "markdown",
   "id": "ccabedcf",
   "metadata": {},
   "source": [
    "The new data set has 54432 rows and 4 columns"
   ]
  },
  {
   "cell_type": "code",
   "execution_count": 25,
   "id": "5f6fea84",
   "metadata": {},
   "outputs": [
    {
     "data": {
      "text/html": [
       "<div>\n",
       "<style scoped>\n",
       "    .dataframe tbody tr th:only-of-type {\n",
       "        vertical-align: middle;\n",
       "    }\n",
       "\n",
       "    .dataframe tbody tr th {\n",
       "        vertical-align: top;\n",
       "    }\n",
       "\n",
       "    .dataframe thead th {\n",
       "        text-align: right;\n",
       "    }\n",
       "</style>\n",
       "<table border=\"1\" class=\"dataframe\">\n",
       "  <thead>\n",
       "    <tr style=\"text-align: right;\">\n",
       "      <th></th>\n",
       "      <th>genre_ids</th>\n",
       "      <th>id</th>\n",
       "      <th>original_title</th>\n",
       "      <th>popularity</th>\n",
       "      <th>release_date</th>\n",
       "      <th>title</th>\n",
       "      <th>vote_average</th>\n",
       "      <th>vote_count</th>\n",
       "    </tr>\n",
       "  </thead>\n",
       "  <tbody>\n",
       "    <tr>\n",
       "      <th>0</th>\n",
       "      <td>[12, 14, 10751]</td>\n",
       "      <td>12444</td>\n",
       "      <td>Harry Potter and the Deathly Hallows: Part 1</td>\n",
       "      <td>33.533</td>\n",
       "      <td>2010-11-19</td>\n",
       "      <td>Harry Potter and the Deathly Hallows: Part 1</td>\n",
       "      <td>7.7</td>\n",
       "      <td>10788</td>\n",
       "    </tr>\n",
       "    <tr>\n",
       "      <th>1</th>\n",
       "      <td>[14, 12, 16, 10751]</td>\n",
       "      <td>10191</td>\n",
       "      <td>How to Train Your Dragon</td>\n",
       "      <td>28.734</td>\n",
       "      <td>2010-03-26</td>\n",
       "      <td>How to Train Your Dragon</td>\n",
       "      <td>7.7</td>\n",
       "      <td>7610</td>\n",
       "    </tr>\n",
       "    <tr>\n",
       "      <th>2</th>\n",
       "      <td>[12, 28, 878]</td>\n",
       "      <td>10138</td>\n",
       "      <td>Iron Man 2</td>\n",
       "      <td>28.515</td>\n",
       "      <td>2010-05-07</td>\n",
       "      <td>Iron Man 2</td>\n",
       "      <td>6.8</td>\n",
       "      <td>12368</td>\n",
       "    </tr>\n",
       "    <tr>\n",
       "      <th>3</th>\n",
       "      <td>[16, 35, 10751]</td>\n",
       "      <td>862</td>\n",
       "      <td>Toy Story</td>\n",
       "      <td>28.005</td>\n",
       "      <td>1995-11-22</td>\n",
       "      <td>Toy Story</td>\n",
       "      <td>7.9</td>\n",
       "      <td>10174</td>\n",
       "    </tr>\n",
       "    <tr>\n",
       "      <th>4</th>\n",
       "      <td>[28, 878, 12]</td>\n",
       "      <td>27205</td>\n",
       "      <td>Inception</td>\n",
       "      <td>27.920</td>\n",
       "      <td>2010-07-16</td>\n",
       "      <td>Inception</td>\n",
       "      <td>8.3</td>\n",
       "      <td>22186</td>\n",
       "    </tr>\n",
       "    <tr>\n",
       "      <th>...</th>\n",
       "      <td>...</td>\n",
       "      <td>...</td>\n",
       "      <td>...</td>\n",
       "      <td>...</td>\n",
       "      <td>...</td>\n",
       "      <td>...</td>\n",
       "      <td>...</td>\n",
       "      <td>...</td>\n",
       "    </tr>\n",
       "    <tr>\n",
       "      <th>26512</th>\n",
       "      <td>[27, 18]</td>\n",
       "      <td>488143</td>\n",
       "      <td>Laboratory Conditions</td>\n",
       "      <td>0.600</td>\n",
       "      <td>2018-10-13</td>\n",
       "      <td>Laboratory Conditions</td>\n",
       "      <td>0.0</td>\n",
       "      <td>1</td>\n",
       "    </tr>\n",
       "    <tr>\n",
       "      <th>26513</th>\n",
       "      <td>[18, 53]</td>\n",
       "      <td>485975</td>\n",
       "      <td>_EXHIBIT_84xxx_</td>\n",
       "      <td>0.600</td>\n",
       "      <td>2018-05-01</td>\n",
       "      <td>_EXHIBIT_84xxx_</td>\n",
       "      <td>0.0</td>\n",
       "      <td>1</td>\n",
       "    </tr>\n",
       "    <tr>\n",
       "      <th>26514</th>\n",
       "      <td>[14, 28, 12]</td>\n",
       "      <td>381231</td>\n",
       "      <td>The Last One</td>\n",
       "      <td>0.600</td>\n",
       "      <td>2018-10-01</td>\n",
       "      <td>The Last One</td>\n",
       "      <td>0.0</td>\n",
       "      <td>1</td>\n",
       "    </tr>\n",
       "    <tr>\n",
       "      <th>26515</th>\n",
       "      <td>[10751, 12, 28]</td>\n",
       "      <td>366854</td>\n",
       "      <td>Trailer Made</td>\n",
       "      <td>0.600</td>\n",
       "      <td>2018-06-22</td>\n",
       "      <td>Trailer Made</td>\n",
       "      <td>0.0</td>\n",
       "      <td>1</td>\n",
       "    </tr>\n",
       "    <tr>\n",
       "      <th>26516</th>\n",
       "      <td>[53, 27]</td>\n",
       "      <td>309885</td>\n",
       "      <td>The Church</td>\n",
       "      <td>0.600</td>\n",
       "      <td>2018-10-05</td>\n",
       "      <td>The Church</td>\n",
       "      <td>0.0</td>\n",
       "      <td>1</td>\n",
       "    </tr>\n",
       "  </tbody>\n",
       "</table>\n",
       "<p>26517 rows × 8 columns</p>\n",
       "</div>"
      ],
      "text/plain": [
       "                 genre_ids      id   \n",
       "0          [12, 14, 10751]   12444  \\\n",
       "1      [14, 12, 16, 10751]   10191   \n",
       "2            [12, 28, 878]   10138   \n",
       "3          [16, 35, 10751]     862   \n",
       "4            [28, 878, 12]   27205   \n",
       "...                    ...     ...   \n",
       "26512             [27, 18]  488143   \n",
       "26513             [18, 53]  485975   \n",
       "26514         [14, 28, 12]  381231   \n",
       "26515      [10751, 12, 28]  366854   \n",
       "26516             [53, 27]  309885   \n",
       "\n",
       "                                     original_title  popularity release_date   \n",
       "0      Harry Potter and the Deathly Hallows: Part 1      33.533   2010-11-19  \\\n",
       "1                          How to Train Your Dragon      28.734   2010-03-26   \n",
       "2                                        Iron Man 2      28.515   2010-05-07   \n",
       "3                                         Toy Story      28.005   1995-11-22   \n",
       "4                                         Inception      27.920   2010-07-16   \n",
       "...                                             ...         ...          ...   \n",
       "26512                         Laboratory Conditions       0.600   2018-10-13   \n",
       "26513                               _EXHIBIT_84xxx_       0.600   2018-05-01   \n",
       "26514                                  The Last One       0.600   2018-10-01   \n",
       "26515                                  Trailer Made       0.600   2018-06-22   \n",
       "26516                                    The Church       0.600   2018-10-05   \n",
       "\n",
       "                                              title  vote_average  vote_count  \n",
       "0      Harry Potter and the Deathly Hallows: Part 1           7.7       10788  \n",
       "1                          How to Train Your Dragon           7.7        7610  \n",
       "2                                        Iron Man 2           6.8       12368  \n",
       "3                                         Toy Story           7.9       10174  \n",
       "4                                         Inception           8.3       22186  \n",
       "...                                             ...           ...         ...  \n",
       "26512                         Laboratory Conditions           0.0           1  \n",
       "26513                               _EXHIBIT_84xxx_           0.0           1  \n",
       "26514                                  The Last One           0.0           1  \n",
       "26515                                  Trailer Made           0.0           1  \n",
       "26516                                    The Church           0.0           1  \n",
       "\n",
       "[26517 rows x 8 columns]"
      ]
     },
     "execution_count": 25,
     "metadata": {},
     "output_type": "execute_result"
    }
   ],
   "source": [
    "new_tmdb_movies = tmdb_movies.drop('original_language', axis=1)\n",
    "new_tmdb_movies"
   ]
  },
  {
   "cell_type": "code",
   "execution_count": 26,
   "id": "c7b5fb1d",
   "metadata": {},
   "outputs": [
    {
     "data": {
      "text/plain": [
       "(26517, 8)"
      ]
     },
     "execution_count": 26,
     "metadata": {},
     "output_type": "execute_result"
    }
   ],
   "source": [
    "new_tmdb_movies.shape"
   ]
  },
  {
   "cell_type": "markdown",
   "id": "2680e5f0",
   "metadata": {},
   "source": [
    "The new data set has 54432 rows and 4 columns\n",
    "\n",
    "Now that we have obtained all the required iformation from each dataset, we can format the data sets."
   ]
  },
  {
   "cell_type": "markdown",
   "id": "f63b558b",
   "metadata": {},
   "source": [
    "### 4.2 Formatting Datatypes.\n",
    "\n",
    "The movies datasets are in different formats so we explore them to get an understanding of the datatypes and determine how to join them."
   ]
  },
  {
   "cell_type": "markdown",
   "id": "5f3aa27a",
   "metadata": {},
   "source": [
    "#### 4.2.1 Exploring incomes generated by movies"
   ]
  },
  {
   "cell_type": "code",
   "execution_count": 27,
   "id": "88f212fa",
   "metadata": {},
   "outputs": [
    {
     "data": {
      "text/plain": [
       "<bound method DataFrame.info of            nconst         primary_name   \n",
       "0       nm0061671    Mary Ellen Bauder  \\\n",
       "1       nm0061865         Joseph Bauer   \n",
       "2       nm0062070           Bruce Baum   \n",
       "3       nm0062195         Axel Baumann   \n",
       "4       nm0062798          Pete Baxter   \n",
       "...           ...                  ...   \n",
       "606643  nm9990381         Susan Grobes   \n",
       "606644  nm9990690          Joo Yeon So   \n",
       "606645  nm9991320       Madeline Smith   \n",
       "606646  nm9991786  Michelle Modigliani   \n",
       "606647  nm9993380       Pegasus Envoyé   \n",
       "\n",
       "                               known_for_titles   \n",
       "0       tt0837562,tt2398241,tt0844471,tt0118553  \\\n",
       "1       tt0896534,tt6791238,tt0287072,tt1682940   \n",
       "2       tt1470654,tt0363631,tt0104030,tt0102898   \n",
       "3       tt0114371,tt2004304,tt1618448,tt1224387   \n",
       "4       tt0452644,tt0452692,tt3458030,tt2178256   \n",
       "...                                         ...   \n",
       "606643                                      NaN   \n",
       "606644                      tt9090932,tt8737130   \n",
       "606645                      tt8734436,tt9615610   \n",
       "606646                                      NaN   \n",
       "606647                                tt8743182   \n",
       "\n",
       "                                      primary_profession  \n",
       "0              miscellaneous,production_manager,producer  \n",
       "1             composer,music_department,sound_department  \n",
       "2                             miscellaneous,actor,writer  \n",
       "3       camera_department,cinematographer,art_department  \n",
       "4       production_designer,art_department,set_decorator  \n",
       "...                                                  ...  \n",
       "606643                                           actress  \n",
       "606644                                           actress  \n",
       "606645                                           actress  \n",
       "606646                                          producer  \n",
       "606647                             director,actor,writer  \n",
       "\n",
       "[606648 rows x 4 columns]>"
      ]
     },
     "execution_count": 27,
     "metadata": {},
     "output_type": "execute_result"
    }
   ],
   "source": [
    "new_cast_names.info"
   ]
  },
  {
   "cell_type": "code",
   "execution_count": 28,
   "id": "600d45e5",
   "metadata": {},
   "outputs": [
    {
     "data": {
      "text/html": [
       "<div>\n",
       "<style scoped>\n",
       "    .dataframe tbody tr th:only-of-type {\n",
       "        vertical-align: middle;\n",
       "    }\n",
       "\n",
       "    .dataframe tbody tr th {\n",
       "        vertical-align: top;\n",
       "    }\n",
       "\n",
       "    .dataframe thead th {\n",
       "        text-align: right;\n",
       "    }\n",
       "</style>\n",
       "<table border=\"1\" class=\"dataframe\">\n",
       "  <thead>\n",
       "    <tr style=\"text-align: right;\">\n",
       "      <th></th>\n",
       "      <th>nconst</th>\n",
       "      <th>primary_name</th>\n",
       "      <th>known_for_titles</th>\n",
       "      <th>primary_profession</th>\n",
       "    </tr>\n",
       "  </thead>\n",
       "  <tbody>\n",
       "    <tr>\n",
       "      <th>count</th>\n",
       "      <td>606648</td>\n",
       "      <td>606648</td>\n",
       "      <td>576444</td>\n",
       "      <td>555308</td>\n",
       "    </tr>\n",
       "    <tr>\n",
       "      <th>unique</th>\n",
       "      <td>606648</td>\n",
       "      <td>577203</td>\n",
       "      <td>482207</td>\n",
       "      <td>8647</td>\n",
       "    </tr>\n",
       "    <tr>\n",
       "      <th>top</th>\n",
       "      <td>nm0061671</td>\n",
       "      <td>Michael Brown</td>\n",
       "      <td>tt4773466</td>\n",
       "      <td>actor</td>\n",
       "    </tr>\n",
       "    <tr>\n",
       "      <th>freq</th>\n",
       "      <td>1</td>\n",
       "      <td>16</td>\n",
       "      <td>45</td>\n",
       "      <td>88306</td>\n",
       "    </tr>\n",
       "  </tbody>\n",
       "</table>\n",
       "</div>"
      ],
      "text/plain": [
       "           nconst   primary_name known_for_titles primary_profession\n",
       "count      606648         606648           576444             555308\n",
       "unique     606648         577203           482207               8647\n",
       "top     nm0061671  Michael Brown        tt4773466              actor\n",
       "freq            1             16               45              88306"
      ]
     },
     "execution_count": 28,
     "metadata": {},
     "output_type": "execute_result"
    }
   ],
   "source": [
    "# Generating descriptive statistics of numeric columns\n",
    "new_cast_names.describe() \n"
   ]
  },
  {
   "cell_type": "markdown",
   "id": "c597d71d",
   "metadata": {},
   "source": [
    " The count indicates 576444 and 555308 non-null values, which implies there are missing values in the columns."
   ]
  },
  {
   "cell_type": "code",
   "execution_count": 29,
   "id": "b8c07a97",
   "metadata": {},
   "outputs": [],
   "source": [
    "# Replace missing values in known_for_titles column with a specific value\n",
    "new_cast_names['known_for_titles'].fillna(\"Unknown\", inplace=True)\n"
   ]
  },
  {
   "cell_type": "code",
   "execution_count": 30,
   "id": "98cc9149",
   "metadata": {
    "scrolled": true
   },
   "outputs": [
    {
     "data": {
      "text/html": [
       "<div>\n",
       "<style scoped>\n",
       "    .dataframe tbody tr th:only-of-type {\n",
       "        vertical-align: middle;\n",
       "    }\n",
       "\n",
       "    .dataframe tbody tr th {\n",
       "        vertical-align: top;\n",
       "    }\n",
       "\n",
       "    .dataframe thead th {\n",
       "        text-align: right;\n",
       "    }\n",
       "</style>\n",
       "<table border=\"1\" class=\"dataframe\">\n",
       "  <thead>\n",
       "    <tr style=\"text-align: right;\">\n",
       "      <th></th>\n",
       "      <th>nconst</th>\n",
       "      <th>primary_name</th>\n",
       "      <th>known_for_titles</th>\n",
       "      <th>primary_profession</th>\n",
       "    </tr>\n",
       "  </thead>\n",
       "  <tbody>\n",
       "    <tr>\n",
       "      <th>count</th>\n",
       "      <td>606648</td>\n",
       "      <td>606648</td>\n",
       "      <td>606648</td>\n",
       "      <td>555308</td>\n",
       "    </tr>\n",
       "    <tr>\n",
       "      <th>unique</th>\n",
       "      <td>606648</td>\n",
       "      <td>577203</td>\n",
       "      <td>482208</td>\n",
       "      <td>8647</td>\n",
       "    </tr>\n",
       "    <tr>\n",
       "      <th>top</th>\n",
       "      <td>nm0061671</td>\n",
       "      <td>Michael Brown</td>\n",
       "      <td>Unknown</td>\n",
       "      <td>actor</td>\n",
       "    </tr>\n",
       "    <tr>\n",
       "      <th>freq</th>\n",
       "      <td>1</td>\n",
       "      <td>16</td>\n",
       "      <td>30204</td>\n",
       "      <td>88306</td>\n",
       "    </tr>\n",
       "  </tbody>\n",
       "</table>\n",
       "</div>"
      ],
      "text/plain": [
       "           nconst   primary_name known_for_titles primary_profession\n",
       "count      606648         606648           606648             555308\n",
       "unique     606648         577203           482208               8647\n",
       "top     nm0061671  Michael Brown          Unknown              actor\n",
       "freq            1             16            30204              88306"
      ]
     },
     "execution_count": 30,
     "metadata": {},
     "output_type": "execute_result"
    }
   ],
   "source": [
    "new_cast_names.describe()"
   ]
  },
  {
   "cell_type": "code",
   "execution_count": 31,
   "id": "f3e8f4db",
   "metadata": {},
   "outputs": [
    {
     "data": {
      "text/plain": [
       "0                miscellaneous,production_manager,producer\n",
       "1               composer,music_department,sound_department\n",
       "2                               miscellaneous,actor,writer\n",
       "3         camera_department,cinematographer,art_department\n",
       "4         production_designer,art_department,set_decorator\n",
       "                                ...                       \n",
       "606643                                             actress\n",
       "606644                                             actress\n",
       "606645                                             actress\n",
       "606646                                            producer\n",
       "606647                               director,actor,writer\n",
       "Name: primary_profession, Length: 606648, dtype: object"
      ]
     },
     "execution_count": 31,
     "metadata": {},
     "output_type": "execute_result"
    }
   ],
   "source": [
    "# Exploring the primary_profession column\n",
    "new_cast_names['primary_profession']"
   ]
  },
  {
   "cell_type": "code",
   "execution_count": 32,
   "id": "010999fc",
   "metadata": {},
   "outputs": [
    {
     "data": {
      "text/plain": [
       "True"
      ]
     },
     "execution_count": 32,
     "metadata": {},
     "output_type": "execute_result"
    }
   ],
   "source": [
    "# Exploring the primary_profession further column\n",
    "new_cast_names['primary_profession'].isnull().any()\n"
   ]
  },
  {
   "cell_type": "code",
   "execution_count": 33,
   "id": "e181f3e4",
   "metadata": {},
   "outputs": [
    {
     "data": {
      "text/plain": [
       "51340"
      ]
     },
     "execution_count": 33,
     "metadata": {},
     "output_type": "execute_result"
    }
   ],
   "source": [
    "missing_count = new_cast_names['primary_profession'].isna().sum()\n",
    "missing_count"
   ]
  },
  {
   "cell_type": "code",
   "execution_count": 34,
   "id": "ce687873",
   "metadata": {},
   "outputs": [],
   "source": [
    "new_cast_names['primary_profession'] = new_cast_names['primary_profession'].fillna('unknown')\n"
   ]
  },
  {
   "cell_type": "code",
   "execution_count": 35,
   "id": "25463df0",
   "metadata": {},
   "outputs": [
    {
     "data": {
      "text/html": [
       "<div>\n",
       "<style scoped>\n",
       "    .dataframe tbody tr th:only-of-type {\n",
       "        vertical-align: middle;\n",
       "    }\n",
       "\n",
       "    .dataframe tbody tr th {\n",
       "        vertical-align: top;\n",
       "    }\n",
       "\n",
       "    .dataframe thead th {\n",
       "        text-align: right;\n",
       "    }\n",
       "</style>\n",
       "<table border=\"1\" class=\"dataframe\">\n",
       "  <thead>\n",
       "    <tr style=\"text-align: right;\">\n",
       "      <th></th>\n",
       "      <th>nconst</th>\n",
       "      <th>primary_name</th>\n",
       "      <th>known_for_titles</th>\n",
       "      <th>primary_profession</th>\n",
       "    </tr>\n",
       "  </thead>\n",
       "  <tbody>\n",
       "    <tr>\n",
       "      <th>count</th>\n",
       "      <td>606648</td>\n",
       "      <td>606648</td>\n",
       "      <td>606648</td>\n",
       "      <td>606648</td>\n",
       "    </tr>\n",
       "    <tr>\n",
       "      <th>unique</th>\n",
       "      <td>606648</td>\n",
       "      <td>577203</td>\n",
       "      <td>482208</td>\n",
       "      <td>8648</td>\n",
       "    </tr>\n",
       "    <tr>\n",
       "      <th>top</th>\n",
       "      <td>nm0061671</td>\n",
       "      <td>Michael Brown</td>\n",
       "      <td>Unknown</td>\n",
       "      <td>actor</td>\n",
       "    </tr>\n",
       "    <tr>\n",
       "      <th>freq</th>\n",
       "      <td>1</td>\n",
       "      <td>16</td>\n",
       "      <td>30204</td>\n",
       "      <td>88306</td>\n",
       "    </tr>\n",
       "  </tbody>\n",
       "</table>\n",
       "</div>"
      ],
      "text/plain": [
       "           nconst   primary_name known_for_titles primary_profession\n",
       "count      606648         606648           606648             606648\n",
       "unique     606648         577203           482208               8648\n",
       "top     nm0061671  Michael Brown          Unknown              actor\n",
       "freq            1             16            30204              88306"
      ]
     },
     "execution_count": 35,
     "metadata": {},
     "output_type": "execute_result"
    }
   ],
   "source": [
    "new_cast_names.describe()"
   ]
  },
  {
   "cell_type": "markdown",
   "id": "ebb53f8e",
   "metadata": {},
   "source": [
    "The count now matches with 606648 meaning we dont have any missing values in any of our columns."
   ]
  },
  {
   "cell_type": "code",
   "execution_count": 36,
   "id": "dc66cd6e",
   "metadata": {},
   "outputs": [
    {
     "data": {
      "text/html": [
       "<div>\n",
       "<style scoped>\n",
       "    .dataframe tbody tr th:only-of-type {\n",
       "        vertical-align: middle;\n",
       "    }\n",
       "\n",
       "    .dataframe tbody tr th {\n",
       "        vertical-align: top;\n",
       "    }\n",
       "\n",
       "    .dataframe thead th {\n",
       "        text-align: right;\n",
       "    }\n",
       "</style>\n",
       "<table border=\"1\" class=\"dataframe\">\n",
       "  <thead>\n",
       "    <tr style=\"text-align: right;\">\n",
       "      <th></th>\n",
       "      <th>ordering</th>\n",
       "      <th>is_original_title</th>\n",
       "    </tr>\n",
       "  </thead>\n",
       "  <tbody>\n",
       "    <tr>\n",
       "      <th>count</th>\n",
       "      <td>331703.000000</td>\n",
       "      <td>331678.000000</td>\n",
       "    </tr>\n",
       "    <tr>\n",
       "      <th>mean</th>\n",
       "      <td>5.125872</td>\n",
       "      <td>0.134769</td>\n",
       "    </tr>\n",
       "    <tr>\n",
       "      <th>std</th>\n",
       "      <td>6.706664</td>\n",
       "      <td>0.341477</td>\n",
       "    </tr>\n",
       "    <tr>\n",
       "      <th>min</th>\n",
       "      <td>1.000000</td>\n",
       "      <td>0.000000</td>\n",
       "    </tr>\n",
       "    <tr>\n",
       "      <th>25%</th>\n",
       "      <td>1.000000</td>\n",
       "      <td>0.000000</td>\n",
       "    </tr>\n",
       "    <tr>\n",
       "      <th>50%</th>\n",
       "      <td>2.000000</td>\n",
       "      <td>0.000000</td>\n",
       "    </tr>\n",
       "    <tr>\n",
       "      <th>75%</th>\n",
       "      <td>6.000000</td>\n",
       "      <td>0.000000</td>\n",
       "    </tr>\n",
       "    <tr>\n",
       "      <th>max</th>\n",
       "      <td>61.000000</td>\n",
       "      <td>1.000000</td>\n",
       "    </tr>\n",
       "  </tbody>\n",
       "</table>\n",
       "</div>"
      ],
      "text/plain": [
       "            ordering  is_original_title\n",
       "count  331703.000000      331678.000000\n",
       "mean        5.125872           0.134769\n",
       "std         6.706664           0.341477\n",
       "min         1.000000           0.000000\n",
       "25%         1.000000           0.000000\n",
       "50%         2.000000           0.000000\n",
       "75%         6.000000           0.000000\n",
       "max        61.000000           1.000000"
      ]
     },
     "execution_count": 36,
     "metadata": {},
     "output_type": "execute_result"
    }
   ],
   "source": [
    "new_movie_title.describe()"
   ]
  },
  {
   "cell_type": "markdown",
   "id": "c1263ba6",
   "metadata": {},
   "source": [
    "We can see that the count of is_original_title is lower than the total columns count indicating presence of missing values."
   ]
  },
  {
   "cell_type": "code",
   "execution_count": 37,
   "id": "fb3ec91c",
   "metadata": {},
   "outputs": [
    {
     "data": {
      "text/plain": [
       "25"
      ]
     },
     "execution_count": 37,
     "metadata": {},
     "output_type": "execute_result"
    }
   ],
   "source": [
    "# checking for the number of missing values in is_original_title to determine how this may affect our analysis\n",
    "new_movie_title['is_original_title'].isnull().sum()\n"
   ]
  },
  {
   "cell_type": "code",
   "execution_count": 38,
   "id": "49bb594d",
   "metadata": {},
   "outputs": [],
   "source": [
    "# replacing the missimg values with the mean since the number of missing values was not that significant\n",
    "mean_value = new_movie_title['is_original_title'].mean()\n",
    "new_movie_title['is_original_title'] = new_movie_title['is_original_title'].fillna(mean_value)\n"
   ]
  },
  {
   "cell_type": "code",
   "execution_count": 39,
   "id": "e295fd38",
   "metadata": {},
   "outputs": [
    {
     "name": "stdout",
     "output_type": "stream",
     "text": [
      "<class 'pandas.core.frame.DataFrame'>\n",
      "RangeIndex: 331703 entries, 0 to 331702\n",
      "Data columns (total 4 columns):\n",
      " #   Column             Non-Null Count   Dtype  \n",
      "---  ------             --------------   -----  \n",
      " 0   title_id           331703 non-null  object \n",
      " 1   ordering           331703 non-null  int64  \n",
      " 2   title              331702 non-null  object \n",
      " 3   is_original_title  331703 non-null  float64\n",
      "dtypes: float64(1), int64(1), object(2)\n",
      "memory usage: 10.1+ MB\n"
     ]
    }
   ],
   "source": [
    "new_movie_title.info()"
   ]
  },
  {
   "cell_type": "markdown",
   "id": "bdcdafe2",
   "metadata": {},
   "source": [
    "All our columns are now populated"
   ]
  },
  {
   "cell_type": "code",
   "execution_count": 40,
   "id": "88ad162e",
   "metadata": {
    "scrolled": true
   },
   "outputs": [
    {
     "name": "stdout",
     "output_type": "stream",
     "text": [
      "<class 'pandas.core.frame.DataFrame'>\n",
      "RangeIndex: 1028186 entries, 0 to 1028185\n",
      "Data columns (total 4 columns):\n",
      " #   Column    Non-Null Count    Dtype \n",
      "---  ------    --------------    ----- \n",
      " 0   tconst    1028186 non-null  object\n",
      " 1   ordering  1028186 non-null  int64 \n",
      " 2   nconst    1028186 non-null  object\n",
      " 3   category  1028186 non-null  object\n",
      "dtypes: int64(1), object(3)\n",
      "memory usage: 31.4+ MB\n"
     ]
    }
   ],
   "source": [
    "# checking for missing values in the columns\n",
    "new_principals_information.info()"
   ]
  },
  {
   "cell_type": "markdown",
   "id": "576a9d47",
   "metadata": {},
   "source": [
    "There are no missing values in any of the columns."
   ]
  },
  {
   "cell_type": "code",
   "execution_count": 41,
   "id": "5def4bca",
   "metadata": {},
   "outputs": [
    {
     "name": "stdout",
     "output_type": "stream",
     "text": [
      "<class 'pandas.core.frame.DataFrame'>\n",
      "RangeIndex: 1560 entries, 0 to 1559\n",
      "Data columns (total 4 columns):\n",
      " #   Column    Non-Null Count  Dtype \n",
      "---  ------    --------------  ----- \n",
      " 0   id        1560 non-null   int64 \n",
      " 1   genre     1552 non-null   object\n",
      " 2   director  1361 non-null   object\n",
      " 3   writer    1111 non-null   object\n",
      "dtypes: int64(1), object(3)\n",
      "memory usage: 48.9+ KB\n"
     ]
    }
   ],
   "source": [
    "# displaying the information of the data set\n",
    "new_movie_info.info()"
   ]
  },
  {
   "cell_type": "code",
   "execution_count": 42,
   "id": "87026984",
   "metadata": {},
   "outputs": [
    {
     "data": {
      "text/html": [
       "<div>\n",
       "<style scoped>\n",
       "    .dataframe tbody tr th:only-of-type {\n",
       "        vertical-align: middle;\n",
       "    }\n",
       "\n",
       "    .dataframe tbody tr th {\n",
       "        vertical-align: top;\n",
       "    }\n",
       "\n",
       "    .dataframe thead th {\n",
       "        text-align: right;\n",
       "    }\n",
       "</style>\n",
       "<table border=\"1\" class=\"dataframe\">\n",
       "  <thead>\n",
       "    <tr style=\"text-align: right;\">\n",
       "      <th></th>\n",
       "      <th>id</th>\n",
       "    </tr>\n",
       "  </thead>\n",
       "  <tbody>\n",
       "    <tr>\n",
       "      <th>count</th>\n",
       "      <td>1560.000000</td>\n",
       "    </tr>\n",
       "    <tr>\n",
       "      <th>mean</th>\n",
       "      <td>1007.303846</td>\n",
       "    </tr>\n",
       "    <tr>\n",
       "      <th>std</th>\n",
       "      <td>579.164527</td>\n",
       "    </tr>\n",
       "    <tr>\n",
       "      <th>min</th>\n",
       "      <td>1.000000</td>\n",
       "    </tr>\n",
       "    <tr>\n",
       "      <th>25%</th>\n",
       "      <td>504.750000</td>\n",
       "    </tr>\n",
       "    <tr>\n",
       "      <th>50%</th>\n",
       "      <td>1007.500000</td>\n",
       "    </tr>\n",
       "    <tr>\n",
       "      <th>75%</th>\n",
       "      <td>1503.250000</td>\n",
       "    </tr>\n",
       "    <tr>\n",
       "      <th>max</th>\n",
       "      <td>2000.000000</td>\n",
       "    </tr>\n",
       "  </tbody>\n",
       "</table>\n",
       "</div>"
      ],
      "text/plain": [
       "                id\n",
       "count  1560.000000\n",
       "mean   1007.303846\n",
       "std     579.164527\n",
       "min       1.000000\n",
       "25%     504.750000\n",
       "50%    1007.500000\n",
       "75%    1503.250000\n",
       "max    2000.000000"
      ]
     },
     "execution_count": 42,
     "metadata": {},
     "output_type": "execute_result"
    }
   ],
   "source": [
    "new_movie_info.describe()"
   ]
  },
  {
   "cell_type": "code",
   "execution_count": 43,
   "id": "06111021",
   "metadata": {},
   "outputs": [
    {
     "data": {
      "text/plain": [
       "8"
      ]
     },
     "execution_count": 43,
     "metadata": {},
     "output_type": "execute_result"
    }
   ],
   "source": [
    "# Exploring the columns\n",
    "new_movie_info['genre'].isna().sum()"
   ]
  },
  {
   "cell_type": "code",
   "execution_count": 44,
   "id": "9a2f25ca",
   "metadata": {},
   "outputs": [
    {
     "data": {
      "text/plain": [
       "0                     Action and Adventure|Classics|Drama\n",
       "1                       Drama|Science Fiction and Fantasy\n",
       "2                       Drama|Musical and Performing Arts\n",
       "3                              Drama|Mystery and Suspense\n",
       "4                                           Drama|Romance\n",
       "                              ...                        \n",
       "1555     Action and Adventure|Horror|Mystery and Suspense\n",
       "1556                   Comedy|Science Fiction and Fantasy\n",
       "1557    Classics|Comedy|Drama|Musical and Performing Arts\n",
       "1558      Comedy|Drama|Kids and Family|Sports and Fitness\n",
       "1559    Action and Adventure|Art House and Internation...\n",
       "Name: genre, Length: 1560, dtype: object"
      ]
     },
     "execution_count": 44,
     "metadata": {},
     "output_type": "execute_result"
    }
   ],
   "source": [
    "new_movie_info['genre']"
   ]
  },
  {
   "cell_type": "code",
   "execution_count": 45,
   "id": "c0ae6270",
   "metadata": {},
   "outputs": [
    {
     "data": {
      "text/plain": [
       "0"
      ]
     },
     "execution_count": 45,
     "metadata": {},
     "output_type": "execute_result"
    }
   ],
   "source": [
    "# Replacing the empty columns with uknown\n",
    "new_movie_info['genre'] = new_movie_info['genre'].fillna('unkown')\n",
    "new_movie_info['genre'].isna().sum()"
   ]
  },
  {
   "cell_type": "code",
   "execution_count": 46,
   "id": "7b79782b",
   "metadata": {},
   "outputs": [
    {
     "data": {
      "text/plain": [
       "0         William Friedkin\n",
       "1         David Cronenberg\n",
       "2           Allison Anders\n",
       "3           Barry Levinson\n",
       "4           Rodney Bennett\n",
       "               ...        \n",
       "1555                   NaN\n",
       "1556          Steve Barron\n",
       "1557        Gordon Douglas\n",
       "1558    David Mickey Evans\n",
       "1559                   NaN\n",
       "Name: director, Length: 1560, dtype: object"
      ]
     },
     "execution_count": 46,
     "metadata": {},
     "output_type": "execute_result"
    }
   ],
   "source": [
    "new_movie_info['director']"
   ]
  },
  {
   "cell_type": "code",
   "execution_count": 47,
   "id": "6d1a9404",
   "metadata": {},
   "outputs": [
    {
     "data": {
      "text/plain": [
       "0"
      ]
     },
     "execution_count": 47,
     "metadata": {},
     "output_type": "execute_result"
    }
   ],
   "source": [
    "new_movie_info['director'] = new_movie_info['director'].fillna('uknown')\n",
    "new_movie_info['director'].isna().sum()"
   ]
  },
  {
   "cell_type": "code",
   "execution_count": 48,
   "id": "9a1c828e",
   "metadata": {},
   "outputs": [
    {
     "data": {
      "text/plain": [
       "0                                         Ernest Tidyman\n",
       "1                           David Cronenberg|Don DeLillo\n",
       "2                                         Allison Anders\n",
       "3                        Paul Attanasio|Michael Crichton\n",
       "4                                           Giles Cooper\n",
       "                              ...                       \n",
       "1555                                                 NaN\n",
       "1556    Terry Turner|Tom Davis|Dan Aykroyd|Bonnie Turner\n",
       "1557                                                 NaN\n",
       "1558                    David Mickey Evans|Robert Gunter\n",
       "1559                                          Luc Besson\n",
       "Name: writer, Length: 1560, dtype: object"
      ]
     },
     "execution_count": 48,
     "metadata": {},
     "output_type": "execute_result"
    }
   ],
   "source": [
    "new_movie_info['writer']"
   ]
  },
  {
   "cell_type": "code",
   "execution_count": 49,
   "id": "3e77e9e5",
   "metadata": {},
   "outputs": [
    {
     "data": {
      "text/plain": [
       "0"
      ]
     },
     "execution_count": 49,
     "metadata": {},
     "output_type": "execute_result"
    }
   ],
   "source": [
    "new_movie_info['writer'] = new_movie_info['writer'].fillna('unkown')\n",
    "new_movie_info['writer'].isna().sum()"
   ]
  },
  {
   "cell_type": "code",
   "execution_count": 50,
   "id": "4f61025e",
   "metadata": {},
   "outputs": [
    {
     "name": "stdout",
     "output_type": "stream",
     "text": [
      "<class 'pandas.core.frame.DataFrame'>\n",
      "RangeIndex: 1560 entries, 0 to 1559\n",
      "Data columns (total 4 columns):\n",
      " #   Column    Non-Null Count  Dtype \n",
      "---  ------    --------------  ----- \n",
      " 0   id        1560 non-null   int64 \n",
      " 1   genre     1560 non-null   object\n",
      " 2   director  1560 non-null   object\n",
      " 3   writer    1560 non-null   object\n",
      "dtypes: int64(1), object(3)\n",
      "memory usage: 48.9+ KB\n"
     ]
    }
   ],
   "source": [
    "new_movie_info.info()"
   ]
  },
  {
   "cell_type": "markdown",
   "id": "3e363364",
   "metadata": {},
   "source": [
    "Our data is consistent now."
   ]
  },
  {
   "cell_type": "code",
   "execution_count": 51,
   "id": "16eb445b",
   "metadata": {
    "scrolled": false
   },
   "outputs": [
    {
     "name": "stdout",
     "output_type": "stream",
     "text": [
      "<class 'pandas.core.frame.DataFrame'>\n",
      "RangeIndex: 54432 entries, 0 to 54431\n",
      "Data columns (total 4 columns):\n",
      " #   Column      Non-Null Count  Dtype \n",
      "---  ------      --------------  ----- \n",
      " 0   id          54432 non-null  int64 \n",
      " 1   rating      40915 non-null  object\n",
      " 2   top_critic  54432 non-null  int64 \n",
      " 3   date        54432 non-null  object\n",
      "dtypes: int64(2), object(2)\n",
      "memory usage: 1.7+ MB\n"
     ]
    }
   ],
   "source": [
    "new_ratings_reviews.info()"
   ]
  },
  {
   "cell_type": "markdown",
   "id": "f39b084b",
   "metadata": {},
   "source": [
    "Exploring the rating column"
   ]
  },
  {
   "cell_type": "code",
   "execution_count": 52,
   "id": "b2fa8525",
   "metadata": {},
   "outputs": [
    {
     "data": {
      "text/plain": [
       "0          3/5\n",
       "1          NaN\n",
       "2          NaN\n",
       "3          NaN\n",
       "4          NaN\n",
       "         ...  \n",
       "54427      NaN\n",
       "54428      1/5\n",
       "54429      2/5\n",
       "54430    2.5/5\n",
       "54431      3/5\n",
       "Name: rating, Length: 54432, dtype: object"
      ]
     },
     "execution_count": 52,
     "metadata": {},
     "output_type": "execute_result"
    }
   ],
   "source": [
    "# Exploring the rating column\n",
    "new_ratings_reviews['rating']"
   ]
  },
  {
   "cell_type": "code",
   "execution_count": 53,
   "id": "7741b151",
   "metadata": {},
   "outputs": [
    {
     "data": {
      "text/plain": [
       "13517"
      ]
     },
     "execution_count": 53,
     "metadata": {},
     "output_type": "execute_result"
    }
   ],
   "source": [
    "new_ratings_reviews['rating'].isna().sum()"
   ]
  },
  {
   "cell_type": "code",
   "execution_count": 54,
   "id": "eaff53cf",
   "metadata": {},
   "outputs": [],
   "source": [
    "new_ratings_reviews['rating'] = new_ratings_reviews['rating'].fillna('1/1')\n"
   ]
  },
  {
   "cell_type": "code",
   "execution_count": 55,
   "id": "2f4d4594",
   "metadata": {},
   "outputs": [
    {
     "name": "stdout",
     "output_type": "stream",
     "text": [
      "<class 'pandas.core.frame.DataFrame'>\n",
      "RangeIndex: 54432 entries, 0 to 54431\n",
      "Data columns (total 4 columns):\n",
      " #   Column      Non-Null Count  Dtype \n",
      "---  ------      --------------  ----- \n",
      " 0   id          54432 non-null  int64 \n",
      " 1   rating      54432 non-null  object\n",
      " 2   top_critic  54432 non-null  int64 \n",
      " 3   date        54432 non-null  object\n",
      "dtypes: int64(2), object(2)\n",
      "memory usage: 1.7+ MB\n"
     ]
    }
   ],
   "source": [
    "# Exploring the rating column\n",
    "new_ratings_reviews.info()"
   ]
  },
  {
   "cell_type": "markdown",
   "id": "b447bc05",
   "metadata": {},
   "source": [
    "#### 4.2.2 Exploring **TMDB** movies data."
   ]
  },
  {
   "cell_type": "code",
   "execution_count": 56,
   "id": "abc0cafe",
   "metadata": {},
   "outputs": [
    {
     "name": "stdout",
     "output_type": "stream",
     "text": [
      "<class 'pandas.core.frame.DataFrame'>\n",
      "Index: 26517 entries, 0 to 26516\n",
      "Data columns (total 8 columns):\n",
      " #   Column          Non-Null Count  Dtype  \n",
      "---  ------          --------------  -----  \n",
      " 0   genre_ids       26517 non-null  object \n",
      " 1   id              26517 non-null  int64  \n",
      " 2   original_title  26517 non-null  object \n",
      " 3   popularity      26517 non-null  float64\n",
      " 4   release_date    26517 non-null  object \n",
      " 5   title           26517 non-null  object \n",
      " 6   vote_average    26517 non-null  float64\n",
      " 7   vote_count      26517 non-null  int64  \n",
      "dtypes: float64(2), int64(2), object(4)\n",
      "memory usage: 1.8+ MB\n"
     ]
    }
   ],
   "source": [
    "# Exploring the TMDB movies dataset\n",
    "new_tmdb_movies.info()"
   ]
  },
  {
   "cell_type": "markdown",
   "id": "bc6bf0b8",
   "metadata": {},
   "source": [
    "Based on the information provided there are no missing values."
   ]
  },
  {
   "cell_type": "markdown",
   "id": "a8662e88",
   "metadata": {},
   "source": [
    "#### 4.2.3 Exploring income generated by bom from movies. "
   ]
  },
  {
   "cell_type": "code",
   "execution_count": 57,
   "id": "7b0d4cc9",
   "metadata": {},
   "outputs": [
    {
     "name": "stdout",
     "output_type": "stream",
     "text": [
      "<class 'pandas.core.frame.DataFrame'>\n",
      "RangeIndex: 3387 entries, 0 to 3386\n",
      "Data columns (total 4 columns):\n",
      " #   Column          Non-Null Count  Dtype  \n",
      "---  ------          --------------  -----  \n",
      " 0   title           3387 non-null   object \n",
      " 1   domestic_gross  3359 non-null   float64\n",
      " 2   foreign_gross   2037 non-null   object \n",
      " 3   year            3387 non-null   int64  \n",
      "dtypes: float64(1), int64(1), object(2)\n",
      "memory usage: 106.0+ KB\n"
     ]
    }
   ],
   "source": [
    "new_bom_gross.info()"
   ]
  },
  {
   "cell_type": "code",
   "execution_count": 58,
   "id": "ab54d83f",
   "metadata": {},
   "outputs": [
    {
     "data": {
      "text/html": [
       "<div>\n",
       "<style scoped>\n",
       "    .dataframe tbody tr th:only-of-type {\n",
       "        vertical-align: middle;\n",
       "    }\n",
       "\n",
       "    .dataframe tbody tr th {\n",
       "        vertical-align: top;\n",
       "    }\n",
       "\n",
       "    .dataframe thead th {\n",
       "        text-align: right;\n",
       "    }\n",
       "</style>\n",
       "<table border=\"1\" class=\"dataframe\">\n",
       "  <thead>\n",
       "    <tr style=\"text-align: right;\">\n",
       "      <th></th>\n",
       "      <th>title</th>\n",
       "      <th>domestic_gross</th>\n",
       "      <th>foreign_gross</th>\n",
       "      <th>year</th>\n",
       "    </tr>\n",
       "  </thead>\n",
       "  <tbody>\n",
       "    <tr>\n",
       "      <th>0</th>\n",
       "      <td>Toy Story 3</td>\n",
       "      <td>415000000.0</td>\n",
       "      <td>652000000</td>\n",
       "      <td>2010</td>\n",
       "    </tr>\n",
       "    <tr>\n",
       "      <th>1</th>\n",
       "      <td>Alice in Wonderland (2010)</td>\n",
       "      <td>334200000.0</td>\n",
       "      <td>691300000</td>\n",
       "      <td>2010</td>\n",
       "    </tr>\n",
       "    <tr>\n",
       "      <th>2</th>\n",
       "      <td>Harry Potter and the Deathly Hallows Part 1</td>\n",
       "      <td>296000000.0</td>\n",
       "      <td>664300000</td>\n",
       "      <td>2010</td>\n",
       "    </tr>\n",
       "    <tr>\n",
       "      <th>3</th>\n",
       "      <td>Inception</td>\n",
       "      <td>292600000.0</td>\n",
       "      <td>535700000</td>\n",
       "      <td>2010</td>\n",
       "    </tr>\n",
       "    <tr>\n",
       "      <th>4</th>\n",
       "      <td>Shrek Forever After</td>\n",
       "      <td>238700000.0</td>\n",
       "      <td>513900000</td>\n",
       "      <td>2010</td>\n",
       "    </tr>\n",
       "  </tbody>\n",
       "</table>\n",
       "</div>"
      ],
      "text/plain": [
       "                                         title  domestic_gross foreign_gross   \n",
       "0                                  Toy Story 3     415000000.0     652000000  \\\n",
       "1                   Alice in Wonderland (2010)     334200000.0     691300000   \n",
       "2  Harry Potter and the Deathly Hallows Part 1     296000000.0     664300000   \n",
       "3                                    Inception     292600000.0     535700000   \n",
       "4                          Shrek Forever After     238700000.0     513900000   \n",
       "\n",
       "   year  \n",
       "0  2010  \n",
       "1  2010  \n",
       "2  2010  \n",
       "3  2010  \n",
       "4  2010  "
      ]
     },
     "execution_count": 58,
     "metadata": {},
     "output_type": "execute_result"
    }
   ],
   "source": [
    "new_bom_gross.head()"
   ]
  },
  {
   "cell_type": "markdown",
   "id": "32a4de8d",
   "metadata": {},
   "source": [
    "There are missing values in the two rows domestic_gross and forign_gross of type floats. We can convert them into integers so that we can calculate its measures of central tendency and replace the missing values appropriately"
   ]
  },
  {
   "cell_type": "markdown",
   "id": "4cc6506e",
   "metadata": {},
   "source": [
    "There are columns containing non-finite values so I first had to replace them with the mode to allow the conversion, there were also commas and whitespaces so i had to handle that too."
   ]
  },
  {
   "cell_type": "code",
   "execution_count": 59,
   "id": "f254a864",
   "metadata": {},
   "outputs": [
    {
     "name": "stdout",
     "output_type": "stream",
     "text": [
      "<class 'pandas.core.frame.DataFrame'>\n",
      "RangeIndex: 3387 entries, 0 to 3386\n",
      "Data columns (total 4 columns):\n",
      " #   Column          Non-Null Count  Dtype  \n",
      "---  ------          --------------  -----  \n",
      " 0   title           3387 non-null   object \n",
      " 1   domestic_gross  3359 non-null   float64\n",
      " 2   foreign_gross   2037 non-null   object \n",
      " 3   year            3387 non-null   int64  \n",
      "dtypes: float64(1), int64(1), object(2)\n",
      "memory usage: 106.0+ KB\n"
     ]
    }
   ],
   "source": [
    "new_bom_gross.info()"
   ]
  },
  {
   "cell_type": "code",
   "execution_count": 60,
   "id": "96aee124",
   "metadata": {},
   "outputs": [],
   "source": [
    "# Fill missing values with the mode in 'domestic_gross' column\n",
    "domestic_mode = new_bom_gross['domestic_gross'].mode().values[0]\n",
    "new_bom_gross['domestic_gross'].fillna(domestic_mode, inplace=True)\n",
    "\n",
    "# Fill missing values with the mode in 'foreign_gross' column\n",
    "foreign_mode = new_bom_gross['foreign_gross'].mode().values[0]\n",
    "new_bom_gross['foreign_gross'].fillna(foreign_mode, inplace=True)\n",
    "\n",
    "# Convert 'domestic_gross' column to string\n",
    "new_bom_gross['domestic_gross'] = new_bom_gross['domestic_gross'].astype(str)\n",
    "\n",
    "# Convert 'foreign_gross' column to string\n",
    "new_bom_gross['foreign_gross'] = new_bom_gross['foreign_gross'].astype(str)\n",
    "\n",
    "# Remove commas from 'domestic_gross' column values and convert to float\n",
    "new_bom_gross['domestic_gross'] = new_bom_gross['domestic_gross'].str.replace(',', '').astype(float)\n",
    "\n",
    "# Remove commas from 'foreign_gross' column values and convert to float\n",
    "new_bom_gross['foreign_gross'] = new_bom_gross['foreign_gross'].str.replace(',', '').astype(float)\n"
   ]
  },
  {
   "cell_type": "code",
   "execution_count": 61,
   "id": "a70c4e4b",
   "metadata": {},
   "outputs": [
    {
     "name": "stdout",
     "output_type": "stream",
     "text": [
      "<class 'pandas.core.frame.DataFrame'>\n",
      "RangeIndex: 3387 entries, 0 to 3386\n",
      "Data columns (total 4 columns):\n",
      " #   Column          Non-Null Count  Dtype  \n",
      "---  ------          --------------  -----  \n",
      " 0   title           3387 non-null   object \n",
      " 1   domestic_gross  3387 non-null   float64\n",
      " 2   foreign_gross   3387 non-null   float64\n",
      " 3   year            3387 non-null   int64  \n",
      "dtypes: float64(2), int64(1), object(1)\n",
      "memory usage: 106.0+ KB\n"
     ]
    }
   ],
   "source": [
    "new_bom_gross.info()"
   ]
  },
  {
   "cell_type": "markdown",
   "id": "9b5628fd",
   "metadata": {},
   "source": [
    "All our columns now are populated and we have converted the domestic_gross and foreign_gross columns into strings for plotting purposes"
   ]
  },
  {
   "cell_type": "markdown",
   "id": "52c6861f",
   "metadata": {},
   "source": [
    "#### 4.2.4 Exploring the budget of movies production and income generated from movies."
   ]
  },
  {
   "cell_type": "code",
   "execution_count": 62,
   "id": "5bbba8d8",
   "metadata": {},
   "outputs": [
    {
     "name": "stdout",
     "output_type": "stream",
     "text": [
      "<class 'pandas.core.frame.DataFrame'>\n",
      "RangeIndex: 5782 entries, 0 to 5781\n",
      "Data columns (total 6 columns):\n",
      " #   Column             Non-Null Count  Dtype \n",
      "---  ------             --------------  ----- \n",
      " 0   id                 5782 non-null   int64 \n",
      " 1   release_date       5782 non-null   object\n",
      " 2   movie              5782 non-null   object\n",
      " 3   production_budget  5782 non-null   object\n",
      " 4   domestic_gross     5782 non-null   object\n",
      " 5   worldwide_gross    5782 non-null   object\n",
      "dtypes: int64(1), object(5)\n",
      "memory usage: 271.2+ KB\n"
     ]
    }
   ],
   "source": [
    "# exploring the budget to produce mivies and revenue\n",
    "movie_budget.info()"
   ]
  },
  {
   "cell_type": "markdown",
   "id": "8bf01423",
   "metadata": {},
   "source": [
    "we do not have any missing values so we proceed with the analysis"
   ]
  },
  {
   "cell_type": "markdown",
   "id": "0e32af88",
   "metadata": {},
   "source": [
    "## Merging the data sets"
   ]
  },
  {
   "cell_type": "code",
   "execution_count": 63,
   "id": "adf039dc",
   "metadata": {},
   "outputs": [
    {
     "name": "stdout",
     "output_type": "stream",
     "text": [
      "<class 'pandas.core.frame.DataFrame'>\n",
      "RangeIndex: 1560 entries, 0 to 1559\n",
      "Data columns (total 4 columns):\n",
      " #   Column    Non-Null Count  Dtype \n",
      "---  ------    --------------  ----- \n",
      " 0   id        1560 non-null   int64 \n",
      " 1   genre     1560 non-null   object\n",
      " 2   director  1560 non-null   object\n",
      " 3   writer    1560 non-null   object\n",
      "dtypes: int64(1), object(3)\n",
      "memory usage: 48.9+ KB\n"
     ]
    }
   ],
   "source": [
    "new_movie_info.info()"
   ]
  },
  {
   "cell_type": "markdown",
   "id": "054d0221",
   "metadata": {},
   "source": [
    "my merged df"
   ]
  },
  {
   "cell_type": "code",
   "execution_count": null,
   "id": "75ae6f0c",
   "metadata": {},
   "outputs": [],
   "source": []
  },
  {
   "cell_type": "code",
   "execution_count": 64,
   "id": "f54eee5d",
   "metadata": {},
   "outputs": [],
   "source": [
    "# Join the DataFrames based on a common column\n",
    "merged_title_df = pd.merge(new_movie_title, new_tmdb_movies, on='title', how='inner')\n",
    "final_merged_title_df = pd.merge(merged_title_df, new_bom_gross, on='title', how='inner')"
   ]
  },
  {
   "cell_type": "code",
   "execution_count": 65,
   "id": "c48d223e",
   "metadata": {},
   "outputs": [
    {
     "data": {
      "text/html": [
       "<div>\n",
       "<style scoped>\n",
       "    .dataframe tbody tr th:only-of-type {\n",
       "        vertical-align: middle;\n",
       "    }\n",
       "\n",
       "    .dataframe tbody tr th {\n",
       "        vertical-align: top;\n",
       "    }\n",
       "\n",
       "    .dataframe thead th {\n",
       "        text-align: right;\n",
       "    }\n",
       "</style>\n",
       "<table border=\"1\" class=\"dataframe\">\n",
       "  <thead>\n",
       "    <tr style=\"text-align: right;\">\n",
       "      <th></th>\n",
       "      <th>title_id</th>\n",
       "      <th>ordering</th>\n",
       "      <th>title</th>\n",
       "      <th>is_original_title</th>\n",
       "      <th>genre_ids</th>\n",
       "      <th>id</th>\n",
       "      <th>original_title</th>\n",
       "      <th>popularity</th>\n",
       "      <th>release_date</th>\n",
       "      <th>vote_average</th>\n",
       "      <th>vote_count</th>\n",
       "      <th>domestic_gross</th>\n",
       "      <th>foreign_gross</th>\n",
       "      <th>year</th>\n",
       "    </tr>\n",
       "  </thead>\n",
       "  <tbody>\n",
       "    <tr>\n",
       "      <th>12381</th>\n",
       "      <td>tt6225520</td>\n",
       "      <td>7</td>\n",
       "      <td>The Man Who Invented Christmas</td>\n",
       "      <td>0.0</td>\n",
       "      <td>[18, 36, 35]</td>\n",
       "      <td>450322</td>\n",
       "      <td>The Man Who Invented Christmas</td>\n",
       "      <td>7.687</td>\n",
       "      <td>2017-11-22</td>\n",
       "      <td>6.6</td>\n",
       "      <td>323</td>\n",
       "      <td>5700000.0</td>\n",
       "      <td>1200000.0</td>\n",
       "      <td>2017</td>\n",
       "    </tr>\n",
       "    <tr>\n",
       "      <th>12382</th>\n",
       "      <td>tt6343058</td>\n",
       "      <td>3</td>\n",
       "      <td>Oh Lucy!</td>\n",
       "      <td>0.0</td>\n",
       "      <td>[35, 18]</td>\n",
       "      <td>430644</td>\n",
       "      <td>オー・ルーシー！</td>\n",
       "      <td>3.554</td>\n",
       "      <td>2018-03-02</td>\n",
       "      <td>7.1</td>\n",
       "      <td>39</td>\n",
       "      <td>375000.0</td>\n",
       "      <td>1200000.0</td>\n",
       "      <td>2018</td>\n",
       "    </tr>\n",
       "    <tr>\n",
       "      <th>12383</th>\n",
       "      <td>tt6343058</td>\n",
       "      <td>3</td>\n",
       "      <td>Oh Lucy!</td>\n",
       "      <td>0.0</td>\n",
       "      <td>[35, 18]</td>\n",
       "      <td>430644</td>\n",
       "      <td>オー・ルーシー！</td>\n",
       "      <td>3.554</td>\n",
       "      <td>2018-03-02</td>\n",
       "      <td>7.1</td>\n",
       "      <td>39</td>\n",
       "      <td>375000.0</td>\n",
       "      <td>1200000.0</td>\n",
       "      <td>2018</td>\n",
       "    </tr>\n",
       "    <tr>\n",
       "      <th>12384</th>\n",
       "      <td>tt6343058</td>\n",
       "      <td>5</td>\n",
       "      <td>Oh Lucy!</td>\n",
       "      <td>1.0</td>\n",
       "      <td>[35, 18]</td>\n",
       "      <td>430644</td>\n",
       "      <td>オー・ルーシー！</td>\n",
       "      <td>3.554</td>\n",
       "      <td>2018-03-02</td>\n",
       "      <td>7.1</td>\n",
       "      <td>39</td>\n",
       "      <td>375000.0</td>\n",
       "      <td>1200000.0</td>\n",
       "      <td>2018</td>\n",
       "    </tr>\n",
       "    <tr>\n",
       "      <th>12385</th>\n",
       "      <td>tt6343058</td>\n",
       "      <td>5</td>\n",
       "      <td>Oh Lucy!</td>\n",
       "      <td>1.0</td>\n",
       "      <td>[35, 18]</td>\n",
       "      <td>430644</td>\n",
       "      <td>オー・ルーシー！</td>\n",
       "      <td>3.554</td>\n",
       "      <td>2018-03-02</td>\n",
       "      <td>7.1</td>\n",
       "      <td>39</td>\n",
       "      <td>375000.0</td>\n",
       "      <td>1200000.0</td>\n",
       "      <td>2018</td>\n",
       "    </tr>\n",
       "  </tbody>\n",
       "</table>\n",
       "</div>"
      ],
      "text/plain": [
       "        title_id  ordering                           title  is_original_title   \n",
       "12381  tt6225520         7  The Man Who Invented Christmas                0.0  \\\n",
       "12382  tt6343058         3                        Oh Lucy!                0.0   \n",
       "12383  tt6343058         3                        Oh Lucy!                0.0   \n",
       "12384  tt6343058         5                        Oh Lucy!                1.0   \n",
       "12385  tt6343058         5                        Oh Lucy!                1.0   \n",
       "\n",
       "          genre_ids      id                  original_title  popularity   \n",
       "12381  [18, 36, 35]  450322  The Man Who Invented Christmas       7.687  \\\n",
       "12382      [35, 18]  430644                        オー・ルーシー！       3.554   \n",
       "12383      [35, 18]  430644                        オー・ルーシー！       3.554   \n",
       "12384      [35, 18]  430644                        オー・ルーシー！       3.554   \n",
       "12385      [35, 18]  430644                        オー・ルーシー！       3.554   \n",
       "\n",
       "      release_date  vote_average  vote_count  domestic_gross  foreign_gross   \n",
       "12381   2017-11-22           6.6         323       5700000.0      1200000.0  \\\n",
       "12382   2018-03-02           7.1          39        375000.0      1200000.0   \n",
       "12383   2018-03-02           7.1          39        375000.0      1200000.0   \n",
       "12384   2018-03-02           7.1          39        375000.0      1200000.0   \n",
       "12385   2018-03-02           7.1          39        375000.0      1200000.0   \n",
       "\n",
       "       year  \n",
       "12381  2017  \n",
       "12382  2018  \n",
       "12383  2018  \n",
       "12384  2018  \n",
       "12385  2018  "
      ]
     },
     "execution_count": 65,
     "metadata": {},
     "output_type": "execute_result"
    }
   ],
   "source": [
    "final_merged_title_df.tail()"
   ]
  },
  {
   "cell_type": "code",
   "execution_count": 66,
   "id": "3a562d99",
   "metadata": {},
   "outputs": [
    {
     "data": {
      "text/plain": [
       "count    1.238600e+04\n",
       "mean     5.176262e+07\n",
       "std      9.801039e+07\n",
       "min      1.000000e+02\n",
       "25%      5.690000e+05\n",
       "50%      1.070000e+07\n",
       "75%      5.600000e+07\n",
       "max      9.367000e+08\n",
       "Name: domestic_gross, dtype: float64"
      ]
     },
     "execution_count": 66,
     "metadata": {},
     "output_type": "execute_result"
    }
   ],
   "source": [
    "final_merged_title_df['domestic_gross'].describe()"
   ]
  },
  {
   "cell_type": "markdown",
   "id": "55f8a282",
   "metadata": {},
   "source": [
    "## Highest rated movies of all time"
   ]
  },
  {
   "cell_type": "code",
   "execution_count": 67,
   "id": "643eec72",
   "metadata": {},
   "outputs": [
    {
     "data": {
      "text/html": [
       "<div>\n",
       "<style scoped>\n",
       "    .dataframe tbody tr th:only-of-type {\n",
       "        vertical-align: middle;\n",
       "    }\n",
       "\n",
       "    .dataframe tbody tr th {\n",
       "        vertical-align: top;\n",
       "    }\n",
       "\n",
       "    .dataframe thead th {\n",
       "        text-align: right;\n",
       "    }\n",
       "</style>\n",
       "<table border=\"1\" class=\"dataframe\">\n",
       "  <thead>\n",
       "    <tr style=\"text-align: right;\">\n",
       "      <th></th>\n",
       "      <th>title_id</th>\n",
       "      <th>ordering</th>\n",
       "      <th>title</th>\n",
       "      <th>is_original_title</th>\n",
       "      <th>genre_ids</th>\n",
       "      <th>id</th>\n",
       "      <th>original_title</th>\n",
       "      <th>popularity</th>\n",
       "      <th>release_date</th>\n",
       "      <th>vote_average</th>\n",
       "      <th>vote_count</th>\n",
       "      <th>domestic_gross</th>\n",
       "      <th>foreign_gross</th>\n",
       "      <th>year</th>\n",
       "    </tr>\n",
       "  </thead>\n",
       "  <tbody>\n",
       "    <tr>\n",
       "      <th>0</th>\n",
       "      <td>tt0369610</td>\n",
       "      <td>14</td>\n",
       "      <td>Jurassic World</td>\n",
       "      <td>0.0</td>\n",
       "      <td>[28, 12, 878, 53]</td>\n",
       "      <td>135397</td>\n",
       "      <td>Jurassic World</td>\n",
       "      <td>20.709</td>\n",
       "      <td>2015-06-12</td>\n",
       "      <td>6.6</td>\n",
       "      <td>14056</td>\n",
       "      <td>652300000.0</td>\n",
       "      <td>1019.4</td>\n",
       "      <td>2015</td>\n",
       "    </tr>\n",
       "    <tr>\n",
       "      <th>1</th>\n",
       "      <td>tt0369610</td>\n",
       "      <td>15</td>\n",
       "      <td>Jurassic World</td>\n",
       "      <td>0.0</td>\n",
       "      <td>[28, 12, 878, 53]</td>\n",
       "      <td>135397</td>\n",
       "      <td>Jurassic World</td>\n",
       "      <td>20.709</td>\n",
       "      <td>2015-06-12</td>\n",
       "      <td>6.6</td>\n",
       "      <td>14056</td>\n",
       "      <td>652300000.0</td>\n",
       "      <td>1019.4</td>\n",
       "      <td>2015</td>\n",
       "    </tr>\n",
       "    <tr>\n",
       "      <th>2</th>\n",
       "      <td>tt0369610</td>\n",
       "      <td>16</td>\n",
       "      <td>Jurassic World</td>\n",
       "      <td>0.0</td>\n",
       "      <td>[28, 12, 878, 53]</td>\n",
       "      <td>135397</td>\n",
       "      <td>Jurassic World</td>\n",
       "      <td>20.709</td>\n",
       "      <td>2015-06-12</td>\n",
       "      <td>6.6</td>\n",
       "      <td>14056</td>\n",
       "      <td>652300000.0</td>\n",
       "      <td>1019.4</td>\n",
       "      <td>2015</td>\n",
       "    </tr>\n",
       "    <tr>\n",
       "      <th>3</th>\n",
       "      <td>tt0369610</td>\n",
       "      <td>20</td>\n",
       "      <td>Jurassic World</td>\n",
       "      <td>0.0</td>\n",
       "      <td>[28, 12, 878, 53]</td>\n",
       "      <td>135397</td>\n",
       "      <td>Jurassic World</td>\n",
       "      <td>20.709</td>\n",
       "      <td>2015-06-12</td>\n",
       "      <td>6.6</td>\n",
       "      <td>14056</td>\n",
       "      <td>652300000.0</td>\n",
       "      <td>1019.4</td>\n",
       "      <td>2015</td>\n",
       "    </tr>\n",
       "    <tr>\n",
       "      <th>4</th>\n",
       "      <td>tt0369610</td>\n",
       "      <td>29</td>\n",
       "      <td>Jurassic World</td>\n",
       "      <td>0.0</td>\n",
       "      <td>[28, 12, 878, 53]</td>\n",
       "      <td>135397</td>\n",
       "      <td>Jurassic World</td>\n",
       "      <td>20.709</td>\n",
       "      <td>2015-06-12</td>\n",
       "      <td>6.6</td>\n",
       "      <td>14056</td>\n",
       "      <td>652300000.0</td>\n",
       "      <td>1019.4</td>\n",
       "      <td>2015</td>\n",
       "    </tr>\n",
       "    <tr>\n",
       "      <th>...</th>\n",
       "      <td>...</td>\n",
       "      <td>...</td>\n",
       "      <td>...</td>\n",
       "      <td>...</td>\n",
       "      <td>...</td>\n",
       "      <td>...</td>\n",
       "      <td>...</td>\n",
       "      <td>...</td>\n",
       "      <td>...</td>\n",
       "      <td>...</td>\n",
       "      <td>...</td>\n",
       "      <td>...</td>\n",
       "      <td>...</td>\n",
       "      <td>...</td>\n",
       "    </tr>\n",
       "    <tr>\n",
       "      <th>12381</th>\n",
       "      <td>tt6225520</td>\n",
       "      <td>7</td>\n",
       "      <td>The Man Who Invented Christmas</td>\n",
       "      <td>0.0</td>\n",
       "      <td>[18, 36, 35]</td>\n",
       "      <td>450322</td>\n",
       "      <td>The Man Who Invented Christmas</td>\n",
       "      <td>7.687</td>\n",
       "      <td>2017-11-22</td>\n",
       "      <td>6.6</td>\n",
       "      <td>323</td>\n",
       "      <td>5700000.0</td>\n",
       "      <td>1200000.0</td>\n",
       "      <td>2017</td>\n",
       "    </tr>\n",
       "    <tr>\n",
       "      <th>12382</th>\n",
       "      <td>tt6343058</td>\n",
       "      <td>3</td>\n",
       "      <td>Oh Lucy!</td>\n",
       "      <td>0.0</td>\n",
       "      <td>[35, 18]</td>\n",
       "      <td>430644</td>\n",
       "      <td>オー・ルーシー！</td>\n",
       "      <td>3.554</td>\n",
       "      <td>2018-03-02</td>\n",
       "      <td>7.1</td>\n",
       "      <td>39</td>\n",
       "      <td>375000.0</td>\n",
       "      <td>1200000.0</td>\n",
       "      <td>2018</td>\n",
       "    </tr>\n",
       "    <tr>\n",
       "      <th>12383</th>\n",
       "      <td>tt6343058</td>\n",
       "      <td>3</td>\n",
       "      <td>Oh Lucy!</td>\n",
       "      <td>0.0</td>\n",
       "      <td>[35, 18]</td>\n",
       "      <td>430644</td>\n",
       "      <td>オー・ルーシー！</td>\n",
       "      <td>3.554</td>\n",
       "      <td>2018-03-02</td>\n",
       "      <td>7.1</td>\n",
       "      <td>39</td>\n",
       "      <td>375000.0</td>\n",
       "      <td>1200000.0</td>\n",
       "      <td>2018</td>\n",
       "    </tr>\n",
       "    <tr>\n",
       "      <th>12384</th>\n",
       "      <td>tt6343058</td>\n",
       "      <td>5</td>\n",
       "      <td>Oh Lucy!</td>\n",
       "      <td>1.0</td>\n",
       "      <td>[35, 18]</td>\n",
       "      <td>430644</td>\n",
       "      <td>オー・ルーシー！</td>\n",
       "      <td>3.554</td>\n",
       "      <td>2018-03-02</td>\n",
       "      <td>7.1</td>\n",
       "      <td>39</td>\n",
       "      <td>375000.0</td>\n",
       "      <td>1200000.0</td>\n",
       "      <td>2018</td>\n",
       "    </tr>\n",
       "    <tr>\n",
       "      <th>12385</th>\n",
       "      <td>tt6343058</td>\n",
       "      <td>5</td>\n",
       "      <td>Oh Lucy!</td>\n",
       "      <td>1.0</td>\n",
       "      <td>[35, 18]</td>\n",
       "      <td>430644</td>\n",
       "      <td>オー・ルーシー！</td>\n",
       "      <td>3.554</td>\n",
       "      <td>2018-03-02</td>\n",
       "      <td>7.1</td>\n",
       "      <td>39</td>\n",
       "      <td>375000.0</td>\n",
       "      <td>1200000.0</td>\n",
       "      <td>2018</td>\n",
       "    </tr>\n",
       "  </tbody>\n",
       "</table>\n",
       "<p>12386 rows × 14 columns</p>\n",
       "</div>"
      ],
      "text/plain": [
       "        title_id  ordering                           title  is_original_title   \n",
       "0      tt0369610        14                  Jurassic World                0.0  \\\n",
       "1      tt0369610        15                  Jurassic World                0.0   \n",
       "2      tt0369610        16                  Jurassic World                0.0   \n",
       "3      tt0369610        20                  Jurassic World                0.0   \n",
       "4      tt0369610        29                  Jurassic World                0.0   \n",
       "...          ...       ...                             ...                ...   \n",
       "12381  tt6225520         7  The Man Who Invented Christmas                0.0   \n",
       "12382  tt6343058         3                        Oh Lucy!                0.0   \n",
       "12383  tt6343058         3                        Oh Lucy!                0.0   \n",
       "12384  tt6343058         5                        Oh Lucy!                1.0   \n",
       "12385  tt6343058         5                        Oh Lucy!                1.0   \n",
       "\n",
       "               genre_ids      id                  original_title  popularity   \n",
       "0      [28, 12, 878, 53]  135397                  Jurassic World      20.709  \\\n",
       "1      [28, 12, 878, 53]  135397                  Jurassic World      20.709   \n",
       "2      [28, 12, 878, 53]  135397                  Jurassic World      20.709   \n",
       "3      [28, 12, 878, 53]  135397                  Jurassic World      20.709   \n",
       "4      [28, 12, 878, 53]  135397                  Jurassic World      20.709   \n",
       "...                  ...     ...                             ...         ...   \n",
       "12381       [18, 36, 35]  450322  The Man Who Invented Christmas       7.687   \n",
       "12382           [35, 18]  430644                        オー・ルーシー！       3.554   \n",
       "12383           [35, 18]  430644                        オー・ルーシー！       3.554   \n",
       "12384           [35, 18]  430644                        オー・ルーシー！       3.554   \n",
       "12385           [35, 18]  430644                        オー・ルーシー！       3.554   \n",
       "\n",
       "      release_date  vote_average  vote_count  domestic_gross  foreign_gross   \n",
       "0       2015-06-12           6.6       14056     652300000.0         1019.4  \\\n",
       "1       2015-06-12           6.6       14056     652300000.0         1019.4   \n",
       "2       2015-06-12           6.6       14056     652300000.0         1019.4   \n",
       "3       2015-06-12           6.6       14056     652300000.0         1019.4   \n",
       "4       2015-06-12           6.6       14056     652300000.0         1019.4   \n",
       "...            ...           ...         ...             ...            ...   \n",
       "12381   2017-11-22           6.6         323       5700000.0      1200000.0   \n",
       "12382   2018-03-02           7.1          39        375000.0      1200000.0   \n",
       "12383   2018-03-02           7.1          39        375000.0      1200000.0   \n",
       "12384   2018-03-02           7.1          39        375000.0      1200000.0   \n",
       "12385   2018-03-02           7.1          39        375000.0      1200000.0   \n",
       "\n",
       "       year  \n",
       "0      2015  \n",
       "1      2015  \n",
       "2      2015  \n",
       "3      2015  \n",
       "4      2015  \n",
       "...     ...  \n",
       "12381  2017  \n",
       "12382  2018  \n",
       "12383  2018  \n",
       "12384  2018  \n",
       "12385  2018  \n",
       "\n",
       "[12386 rows x 14 columns]"
      ]
     },
     "execution_count": 67,
     "metadata": {},
     "output_type": "execute_result"
    }
   ],
   "source": [
    "final_merged_title_df"
   ]
  },
  {
   "cell_type": "code",
   "execution_count": 68,
   "id": "445cfae1",
   "metadata": {},
   "outputs": [
    {
     "name": "stdout",
     "output_type": "stream",
     "text": [
      "Movie Title with the Highest Domestic Gross: Star Wars: The Force Awakens\n"
     ]
    }
   ],
   "source": [
    "\n",
    "# Find the row index with the highest domestic gross\n",
    "max_domestic_gross_index = final_merged_title_df['domestic_gross'].idxmax()\n",
    "\n",
    "# Get the movie title with the highest domestic gross\n",
    "movie_title_highest_gross = final_merged_title_df.loc[max_domestic_gross_index, 'title']\n",
    "\n",
    "print(\"Movie Title with the Highest Domestic Gross:\", movie_title_highest_gross)\n"
   ]
  },
  {
   "cell_type": "markdown",
   "id": "8d5c7327",
   "metadata": {},
   "source": [
    "## Top ten movies in terms of gross income"
   ]
  },
  {
   "cell_type": "code",
   "execution_count": 84,
   "id": "2288f7c5",
   "metadata": {},
   "outputs": [
    {
     "name": "stdout",
     "output_type": "stream",
     "text": [
      "Top 10 Movies based on Domestic Gross:\n",
      "Star Wars: The Force Awakens\n",
      "Black Panther\n",
      "Avengers: Infinity War\n",
      "Jurassic World\n",
      "Star Wars: The Last Jedi\n",
      "Incredibles 2\n",
      "Rogue One: A Star Wars Story\n",
      "Finding Dory\n",
      "Avengers: Age of Ultron\n",
      "The Dark Knight Rises\n"
     ]
    }
   ],
   "source": [
    "# Remove duplicates based on the 'title' column\n",
    "unique_movies = final_merged_title_df.drop_duplicates(subset='title')\n",
    "\n",
    "# Find the top 10 movies with the highest domestic gross\n",
    "top10_movies_domestic = unique_movies.nlargest(10, 'domestic_gross')['title'].tolist()\n",
    "\n",
    "print(\"Top 10 Movies based on Domestic Gross:\")\n",
    "for movie in top_10_movies:\n",
    "    print(movie)\n"
   ]
  },
  {
   "cell_type": "code",
   "execution_count": 85,
   "id": "67d0797b",
   "metadata": {},
   "outputs": [
    {
     "data": {
      "image/png": "[encoded data removed]",
      "text/plain": [
       "<Figure size 1200x600 with 1 Axes>"
      ]
     },
     "metadata": {},
     "output_type": "display_data"
    }
   ],
   "source": [
    "# Sort the dataframe by 'foreign_gross' in descending order and select the top 10 rows\n",
    "top_10_foreign = unique_movies.sort_values('domestic_gross', ascending=False).head(10)\n",
    "\n",
    "# Extract the movie titles from the 'title' column\n",
    "top_10_movies_foreign = top_10_foreign['title'].tolist()\n",
    "\n",
    "# Extract the foreign gross values for plotting\n",
    "foreign_gross_values = top_10_foreign['domestic_gross']\n",
    "\n",
    "# Create a bar plot for the top 10 movies and foreign gross\n",
    "plt.figure(figsize=(12, 6))\n",
    "plt.bar(top_10_movies_foreign, foreign_gross_values)\n",
    "plt.xlabel('Movie Title')\n",
    "plt.ylabel('Domestic Gross')\n",
    "plt.title('Top 10 Movies by Domestic Gross')\n",
    "plt.xticks(rotation=90)\n",
    "plt.show()"
   ]
  },
  {
   "cell_type": "code",
   "execution_count": 70,
   "id": "41ff6279",
   "metadata": {},
   "outputs": [
    {
     "data": {
      "image/png": "[encoded data removed]",
      "text/plain": [
       "<Figure size 1200x600 with 1 Axes>"
      ]
     },
     "metadata": {},
     "output_type": "display_data"
    }
   ],
   "source": [
    "# Drop duplicates based on the 'title' column\n",
    "unique_movies = final_merged_title_df.drop_duplicates(subset='title')\n",
    "\n",
    "# Sort the dataframe by 'foreign_gross' in descending order and select the top 10 rows\n",
    "top_10_foreign = unique_movies.sort_values('foreign_gross', ascending=False).head(10)\n",
    "\n",
    "# Extract the movie titles from the 'title' column\n",
    "top_10_movies_foreign = top_10_foreign['title'].tolist()\n",
    "\n",
    "# Extract the foreign gross values for plotting\n",
    "foreign_gross_values = top_10_foreign['foreign_gross']\n",
    "\n",
    "# Create a bar plot for the top 10 movies and foreign gross\n",
    "plt.figure(figsize=(12, 6))\n",
    "plt.bar(top_10_movies_foreign, foreign_gross_values)\n",
    "plt.xlabel('Movie Title')\n",
    "plt.ylabel('Foreign Gross')\n",
    "plt.title('Top 10 Movies by Foreign Gross')\n",
    "plt.xticks(rotation=90)\n",
    "plt.show()"
   ]
  },
  {
   "cell_type": "markdown",
   "id": "08c8947a",
   "metadata": {},
   "source": [
    "From that we can observe that the top 10 earning movies in the domestic market are different from the top 10 earners in the foreign market. This indicates that movies are perfoming differently in the two markets"
   ]
  },
  {
   "cell_type": "markdown",
   "id": "ffb325a7",
   "metadata": {},
   "source": [
    "## Exploring whether popularity influences income"
   ]
  },
  {
   "cell_type": "code",
   "execution_count": 71,
   "id": "6f8d2f23",
   "metadata": {},
   "outputs": [
    {
     "data": {
      "image/png": "[encoded data removed]",
      "text/plain": [
       "<Figure size 1000x600 with 1 Axes>"
      ]
     },
     "metadata": {},
     "output_type": "display_data"
    }
   ],
   "source": [
    "# Create a scatter plot\n",
    "plt.figure(figsize=(10, 6))\n",
    "plt.scatter(final_merged_title_df['popularity'], final_merged_title_df['domestic_gross'])\n",
    "plt.xlabel('Popularity')\n",
    "plt.ylabel('Domestic Gross')\n",
    "plt.title('Relationship between Popularity and Domestic Gross')\n",
    "plt.show()\n"
   ]
  },
  {
   "cell_type": "code",
   "execution_count": 87,
   "id": "9dde5dec",
   "metadata": {},
   "outputs": [
    {
     "data": {
      "image/png": "[encoded data removed]",
      "text/plain": [
       "<Figure size 1000x600 with 1 Axes>"
      ]
     },
     "metadata": {},
     "output_type": "display_data"
    }
   ],
   "source": [
    "# Create a scatter plot\n",
    "plt.figure(figsize=(10, 6))\n",
    "plt.scatter(final_merged_title_df['popularity'], final_merged_title_df['foreign_gross'])\n",
    "plt.xlabel('Popularity')\n",
    "plt.ylabel('Foreign Gross')\n",
    "plt.title('Relationship between Popularity and Foreign Gross')\n",
    "plt.show()\n"
   ]
  },
  {
   "cell_type": "markdown",
   "id": "b5aa79ca",
   "metadata": {},
   "source": [
    "If the points tend to form an upward trend as you move from left to right, it indicates a positive relationship, suggesting that higher popularity tends to be associated with higher gross income. Here we can conclude that the more popular movies have a higher gross income in both domestic and foreign markets."
   ]
  },
  {
   "cell_type": "markdown",
   "id": "566da9ca",
   "metadata": {},
   "source": [
    "## Most poular movie"
   ]
  },
  {
   "cell_type": "code",
   "execution_count": 73,
   "id": "a505613a",
   "metadata": {},
   "outputs": [
    {
     "name": "stdout",
     "output_type": "stream",
     "text": [
      "The most popular title is: Avengers: Infinity War\n"
     ]
    }
   ],
   "source": [
    "# Sort the DataFrame by popularity in descending order\n",
    "sorted_df = final_merged_title_df.sort_values(by='popularity', ascending=False)\n",
    "\n",
    "# Get the most popular title\n",
    "most_popular_title = sorted_df.iloc[0]['title']\n",
    "\n",
    "print(\"The most popular title is:\", most_popular_title)\n"
   ]
  },
  {
   "cell_type": "markdown",
   "id": "d4bbf570",
   "metadata": {},
   "source": [
    "we shall check the genre of this movie to determine the genre with the most popular movie"
   ]
  },
  {
   "cell_type": "markdown",
   "id": "2b76ce9c",
   "metadata": {},
   "source": [
    "## most popular movies and their gross incomes"
   ]
  },
  {
   "cell_type": "markdown",
   "id": "e8645d6e",
   "metadata": {},
   "source": [
    "This code calculates the mean popularity for each unique title by grouping the DataFrame final_merged_title_df by the 'title' column and taking the mean of the 'popularity' column. It then sorts the titles in descending order based on their mean popularity and selects the top 10 titles. The variable top_10_titles stores the list of the 10 most popular titles. The code then prints each title from the list."
   ]
  },
  {
   "cell_type": "markdown",
   "id": "84eef0fc",
   "metadata": {},
   "source": [
    "### Top 10 movies based on popularity"
   ]
  },
  {
   "cell_type": "markdown",
   "id": "aa19e5ea",
   "metadata": {},
   "source": [
    "Here i grouped the data by title to determine the most popular movies based on the popularity mean."
   ]
  },
  {
   "cell_type": "code",
   "execution_count": 74,
   "id": "1626f66e",
   "metadata": {},
   "outputs": [
    {
     "name": "stdout",
     "output_type": "stream",
     "text": [
      "Top 10 most popular titles:\n",
      "Avengers: Infinity War\n",
      "John Wick\n",
      "The Hobbit: The Battle of the Five Armies\n",
      "Guardians of the Galaxy\n",
      "Blade Runner 2049\n",
      "Fantastic Beasts: The Crimes of Grindelwald\n",
      "Ralph Breaks the Internet\n",
      "Spider-Man: Homecoming\n",
      "Ant-Man and the Wasp\n",
      "Avengers: Age of Ultron\n"
     ]
    }
   ],
   "source": [
    "# Group the DataFrame by 'title' and calculate the mean popularity\n",
    "title_popularity = final_merged_title_df.groupby('title')['popularity'].mean()\n",
    "\n",
    "# Sort the DataFrame in descending order by mean popularity\n",
    "sorted_titles = title_popularity.sort_values(ascending=False)\n",
    "\n",
    "# Select the top 10 titles\n",
    "top_10_titles = sorted_titles.head(10).index.tolist()\n",
    "\n",
    "print(\"Top 10 most popular titles:\")\n",
    "for title in top_10_titles:\n",
    "    print(title)\n"
   ]
  },
  {
   "cell_type": "markdown",
   "id": "6c9f822b",
   "metadata": {},
   "source": [
    "## A plot of top ten movies based on popularity and their corresponding incomes"
   ]
  },
  {
   "cell_type": "markdown",
   "id": "cd436e2f",
   "metadata": {},
   "source": [
    "I grouped the data by title again and plotted a bar graph to indicate the revenue of the top 10 movies based on popularity"
   ]
  },
  {
   "cell_type": "code",
   "execution_count": 75,
   "id": "a3963e57",
   "metadata": {},
   "outputs": [
    {
     "data": {
      "image/png": "[encoded data removed]",
      "text/plain": [
       "<Figure size 1200x600 with 1 Axes>"
      ]
     },
     "metadata": {},
     "output_type": "display_data"
    }
   ],
   "source": [
    "# Group the DataFrame by 'title' and calculate the mean popularity\n",
    "title_popularity = final_merged_title_df.groupby('title')['popularity'].mean()\n",
    "\n",
    "# Sort the titles based on mean popularity and select the top 10\n",
    "top_10_titles = title_popularity.sort_values(ascending=False).head(10).index.tolist()\n",
    "\n",
    "# Filter the DataFrame to include only the top 10 popular titles\n",
    "top_10_df = final_merged_title_df[final_merged_title_df['title'].isin(top_10_titles)]\n",
    "\n",
    "# Sort the DataFrame by 'domestic_gross' in descending order\n",
    "top_10_df = top_10_df.sort_values('domestic_gross', ascending=False)\n",
    "\n",
    "# Create a bar plot\n",
    "plt.figure(figsize=(12, 6))\n",
    "plt.bar(top_10_df['title'], top_10_df['domestic_gross'])\n",
    "plt.xlabel('Title')\n",
    "plt.ylabel('Domestic Gross')\n",
    "plt.title('Top 10 Most Popular Movies and Their Domestic Gross Incomes')\n",
    "plt.xticks(rotation=90)\n",
    "plt.tight_layout()\n",
    "\n",
    "# Display the plot\n",
    "plt.show()\n"
   ]
  },
  {
   "cell_type": "code",
   "execution_count": 76,
   "id": "1b9b8df3",
   "metadata": {},
   "outputs": [
    {
     "data": {
      "image/png": "[encoded data removed]",
      "text/plain": [
       "<Figure size 1200x600 with 1 Axes>"
      ]
     },
     "metadata": {},
     "output_type": "display_data"
    }
   ],
   "source": [
    "# Group the DataFrame by 'title' and calculate the mean popularity\n",
    "title_popularity = final_merged_title_df.groupby('title')['popularity'].mean()\n",
    "\n",
    "# Sort the titles based on mean popularity and select the top 10\n",
    "top_10_titles = title_popularity.sort_values(ascending=False).head(10).index.tolist()\n",
    "\n",
    "# Filter the DataFrame to include only the top 10 popular titles\n",
    "top_10_df = final_merged_title_df[final_merged_title_df['title'].isin(top_10_titles)]\n",
    "\n",
    "# Sort the DataFrame by 'domestic_gross' in descending order\n",
    "top_10_df = top_10_df.sort_values('foreign_gross', ascending=False)\n",
    "\n",
    "# Create a bar plot\n",
    "plt.figure(figsize=(12, 6))\n",
    "plt.bar(top_10_df['title'], top_10_df['foreign_gross'])\n",
    "plt.xlabel('Title')\n",
    "plt.ylabel('Foreign Gross')\n",
    "plt.title('Top 10 Most Popular Movies and Their Foreign Gross Incomes')\n",
    "plt.xticks(rotation=90)\n",
    "plt.tight_layout()\n",
    "\n",
    "# Display the plot\n",
    "plt.show()\n"
   ]
  },
  {
   "cell_type": "markdown",
   "id": "6cd5cb0e",
   "metadata": {},
   "source": [
    "Here we can observe that the top 10 most popular movies are perfoming very differently in the different markets. As much as they are the most popular movies in both markets the incomes from them vary significantly."
   ]
  },
  {
   "cell_type": "code",
   "execution_count": 80,
   "id": "4d16f44d",
   "metadata": {},
   "outputs": [
    {
     "data": {
      "image/png": "[encoded data removed]",
      "text/plain": [
       "<Figure size 1200x800 with 1 Axes>"
      ]
     },
     "metadata": {},
     "output_type": "display_data"
    }
   ],
   "source": [
    "# Group the DataFrame by 'title' and calculate the mean popularity\n",
    "title_popularity = final_merged_title_df.groupby('title')['popularity'].mean()\n",
    "\n",
    "# Sort the titles based on mean popularity and select the top 10\n",
    "top_10_titles = title_popularity.sort_values(ascending=False).head(10).index.tolist()\n",
    "\n",
    "# Filter the DataFrame to include only the top 10 popular titles\n",
    "top_10_df = final_merged_title_df[final_merged_title_df['title'].isin(top_10_titles)]\n",
    "\n",
    "# Sort the DataFrame by 'domestic_gross' in descending order\n",
    "top_10_df = top_10_df.sort_values('domestic_gross', ascending=False)\n",
    "\n",
    "# Create a scatter plot\n",
    "plt.figure(figsize=(12, 8))\n",
    "plt.scatter(top_10_df['title'], top_10_df['domestic_gross'])\n",
    "plt.xlabel('Title')\n",
    "plt.ylabel('Domestic Gross')\n",
    "plt.title('Top 10 Most Popular Movies and Their Domestic Gross Incomes')\n",
    "plt.xticks(rotation=90)\n",
    "plt.tight_layout()\n",
    "\n",
    "# Display the plot\n",
    "plt.show()\n"
   ]
  },
  {
   "cell_type": "code",
   "execution_count": 79,
   "id": "414611a4",
   "metadata": {},
   "outputs": [
    {
     "data": {
      "image/png": "[encoded data removed]",
      "text/plain": [
       "<Figure size 1200x800 with 1 Axes>"
      ]
     },
     "metadata": {},
     "output_type": "display_data"
    }
   ],
   "source": [
    "import matplotlib.pyplot as plt\n",
    "\n",
    "# Group the DataFrame by 'title' and calculate the mean popularity\n",
    "title_popularity = final_merged_title_df.groupby('title')['popularity'].mean()\n",
    "\n",
    "# Sort the titles based on mean popularity and select the top 10\n",
    "top_10_titles = title_popularity.sort_values(ascending=False).head(10).index.tolist()\n",
    "\n",
    "# Filter the DataFrame to include only the top 10 popular titles\n",
    "top_10_df = final_merged_title_df[final_merged_title_df['title'].isin(top_10_titles)]\n",
    "\n",
    "# Sort the DataFrame by 'domestic_gross' in descending order\n",
    "top_10_df = top_10_df.sort_values('foreign_gross', ascending=False)\n",
    "\n",
    "# Create a scatter plot\n",
    "plt.figure(figsize=(12, 8))\n",
    "plt.scatter(top_10_df['title'], top_10_df['domestic_gross'])\n",
    "plt.xlabel('Title')\n",
    "plt.ylabel('Foreign Gross')\n",
    "plt.title('Top 10 Most Popular Movies and Their Foreign Gross Incomes')\n",
    "plt.xticks(rotation=90)\n",
    "plt.tight_layout()\n",
    "\n",
    "# Display the plot\n",
    "plt.show()\n"
   ]
  },
  {
   "cell_type": "markdown",
   "id": "e46101e7",
   "metadata": {},
   "source": [
    "The scatter indicate a linear relationship between the most popular movies and gross income."
   ]
  },
  {
   "cell_type": "markdown",
   "id": "497376c3",
   "metadata": {},
   "source": [
    "## More data joining"
   ]
  },
  {
   "cell_type": "code",
   "execution_count": 88,
   "id": "e3423a38",
   "metadata": {},
   "outputs": [],
   "source": [
    "# Join the DataFrames based on a common column\n",
    "merged_tconst_df = pd.merge(new_principals_information, crew_information, on='tconst', how='inner')\n"
   ]
  },
  {
   "cell_type": "code",
   "execution_count": 92,
   "id": "1caa4f8f",
   "metadata": {},
   "outputs": [],
   "source": [
    "# adding another join\n",
    "second_merged_tconst_df = pd.merge(merged_tconst_df, movie_ratings, on='tconst', how='inner')"
   ]
  },
  {
   "cell_type": "markdown",
   "id": "26bf9ef2",
   "metadata": {},
   "source": [
    "we now have another common column we can use for our joins"
   ]
  },
  {
   "cell_type": "code",
   "execution_count": 94,
   "id": "ecc07d4c",
   "metadata": {},
   "outputs": [],
   "source": [
    "final_merged_tconst_df = pd.merge(second_merged_tconst_df, new_cast_names, on='nconst', how='inner')"
   ]
  },
  {
   "cell_type": "code",
   "execution_count": 96,
   "id": "489b5799",
   "metadata": {
    "scrolled": true
   },
   "outputs": [
    {
     "data": {
      "text/html": [
       "<div>\n",
       "<style scoped>\n",
       "    .dataframe tbody tr th:only-of-type {\n",
       "        vertical-align: middle;\n",
       "    }\n",
       "\n",
       "    .dataframe tbody tr th {\n",
       "        vertical-align: top;\n",
       "    }\n",
       "\n",
       "    .dataframe thead th {\n",
       "        text-align: right;\n",
       "    }\n",
       "</style>\n",
       "<table border=\"1\" class=\"dataframe\">\n",
       "  <thead>\n",
       "    <tr style=\"text-align: right;\">\n",
       "      <th></th>\n",
       "      <th>tconst</th>\n",
       "      <th>ordering</th>\n",
       "      <th>nconst</th>\n",
       "      <th>category</th>\n",
       "      <th>directors</th>\n",
       "      <th>writers</th>\n",
       "      <th>averagerating</th>\n",
       "      <th>numvotes</th>\n",
       "      <th>primary_name</th>\n",
       "      <th>known_for_titles</th>\n",
       "      <th>primary_profession</th>\n",
       "    </tr>\n",
       "  </thead>\n",
       "  <tbody>\n",
       "    <tr>\n",
       "      <th>629593</th>\n",
       "      <td>tt9681728</td>\n",
       "      <td>4</td>\n",
       "      <td>nm10436662</td>\n",
       "      <td>actor</td>\n",
       "      <td>nm10436661</td>\n",
       "      <td>NaN</td>\n",
       "      <td>6.6</td>\n",
       "      <td>34</td>\n",
       "      <td>Vladimir Korolev</td>\n",
       "      <td>tt9681728</td>\n",
       "      <td>actor</td>\n",
       "    </tr>\n",
       "    <tr>\n",
       "      <th>629594</th>\n",
       "      <td>tt9681728</td>\n",
       "      <td>5</td>\n",
       "      <td>nm10436661</td>\n",
       "      <td>director</td>\n",
       "      <td>nm10436661</td>\n",
       "      <td>NaN</td>\n",
       "      <td>6.6</td>\n",
       "      <td>34</td>\n",
       "      <td>Alexander Zolotukhin</td>\n",
       "      <td>tt9681728,tt9877328</td>\n",
       "      <td>director,writer,editor</td>\n",
       "    </tr>\n",
       "    <tr>\n",
       "      <th>629595</th>\n",
       "      <td>tt9681728</td>\n",
       "      <td>7</td>\n",
       "      <td>nm9645603</td>\n",
       "      <td>cinematographer</td>\n",
       "      <td>nm10436661</td>\n",
       "      <td>NaN</td>\n",
       "      <td>6.6</td>\n",
       "      <td>34</td>\n",
       "      <td>Ayrat Yamilov</td>\n",
       "      <td>tt9681728,tt9877328,tt8038556</td>\n",
       "      <td>cinematographer</td>\n",
       "    </tr>\n",
       "    <tr>\n",
       "      <th>629596</th>\n",
       "      <td>tt9681728</td>\n",
       "      <td>8</td>\n",
       "      <td>nm10436663</td>\n",
       "      <td>actor</td>\n",
       "      <td>nm10436661</td>\n",
       "      <td>NaN</td>\n",
       "      <td>6.6</td>\n",
       "      <td>34</td>\n",
       "      <td>Artem Leshik</td>\n",
       "      <td>tt9681728</td>\n",
       "      <td>actor</td>\n",
       "    </tr>\n",
       "    <tr>\n",
       "      <th>629597</th>\n",
       "      <td>tt9681728</td>\n",
       "      <td>9</td>\n",
       "      <td>nm10397910</td>\n",
       "      <td>actor</td>\n",
       "      <td>nm10436661</td>\n",
       "      <td>NaN</td>\n",
       "      <td>6.6</td>\n",
       "      <td>34</td>\n",
       "      <td>Danil Tyabin</td>\n",
       "      <td>tt9681728,tt8820590</td>\n",
       "      <td>actor</td>\n",
       "    </tr>\n",
       "  </tbody>\n",
       "</table>\n",
       "</div>"
      ],
      "text/plain": [
       "           tconst  ordering      nconst         category   directors writers   \n",
       "629593  tt9681728         4  nm10436662            actor  nm10436661     NaN  \\\n",
       "629594  tt9681728         5  nm10436661         director  nm10436661     NaN   \n",
       "629595  tt9681728         7   nm9645603  cinematographer  nm10436661     NaN   \n",
       "629596  tt9681728         8  nm10436663            actor  nm10436661     NaN   \n",
       "629597  tt9681728         9  nm10397910            actor  nm10436661     NaN   \n",
       "\n",
       "        averagerating  numvotes          primary_name   \n",
       "629593            6.6        34      Vladimir Korolev  \\\n",
       "629594            6.6        34  Alexander Zolotukhin   \n",
       "629595            6.6        34         Ayrat Yamilov   \n",
       "629596            6.6        34          Artem Leshik   \n",
       "629597            6.6        34          Danil Tyabin   \n",
       "\n",
       "                     known_for_titles      primary_profession  \n",
       "629593                      tt9681728                   actor  \n",
       "629594            tt9681728,tt9877328  director,writer,editor  \n",
       "629595  tt9681728,tt9877328,tt8038556         cinematographer  \n",
       "629596                      tt9681728                   actor  \n",
       "629597            tt9681728,tt8820590                   actor  "
      ]
     },
     "execution_count": 96,
     "metadata": {},
     "output_type": "execute_result"
    }
   ],
   "source": [
    "final_merged_tconst_df.tail()"
   ]
  },
  {
   "cell_type": "code",
   "execution_count": 101,
   "id": "6bb4b3fd",
   "metadata": {},
   "outputs": [
    {
     "data": {
      "text/html": [
       "<div>\n",
       "<style scoped>\n",
       "    .dataframe tbody tr th:only-of-type {\n",
       "        vertical-align: middle;\n",
       "    }\n",
       "\n",
       "    .dataframe tbody tr th {\n",
       "        vertical-align: top;\n",
       "    }\n",
       "\n",
       "    .dataframe thead th {\n",
       "        text-align: right;\n",
       "    }\n",
       "</style>\n",
       "<table border=\"1\" class=\"dataframe\">\n",
       "  <thead>\n",
       "    <tr style=\"text-align: right;\">\n",
       "      <th></th>\n",
       "      <th>tconst</th>\n",
       "      <th>ordering</th>\n",
       "      <th>nconst</th>\n",
       "      <th>category</th>\n",
       "      <th>directors</th>\n",
       "      <th>writers</th>\n",
       "      <th>averagerating</th>\n",
       "      <th>numvotes</th>\n",
       "      <th>primary_name</th>\n",
       "      <th>known_for_titles</th>\n",
       "      <th>primary_profession</th>\n",
       "    </tr>\n",
       "  </thead>\n",
       "  <tbody>\n",
       "    <tr>\n",
       "      <th>5</th>\n",
       "      <td>tt0323808</td>\n",
       "      <td>1</td>\n",
       "      <td>nm3579312</td>\n",
       "      <td>actress</td>\n",
       "      <td>nm0362736</td>\n",
       "      <td>nm0362736</td>\n",
       "      <td>3.9</td>\n",
       "      <td>2328</td>\n",
       "      <td>Brittania Nicol</td>\n",
       "      <td>tt0323808</td>\n",
       "      <td>actress,soundtrack</td>\n",
       "    </tr>\n",
       "    <tr>\n",
       "      <th>484</th>\n",
       "      <td>tt0879405</td>\n",
       "      <td>6</td>\n",
       "      <td>nm8710648</td>\n",
       "      <td>writer</td>\n",
       "      <td>nm1275939</td>\n",
       "      <td>nm8710648</td>\n",
       "      <td>5.3</td>\n",
       "      <td>250</td>\n",
       "      <td>William Tyler Bell</td>\n",
       "      <td>tt0879405</td>\n",
       "      <td>writer</td>\n",
       "    </tr>\n",
       "    <tr>\n",
       "      <th>614</th>\n",
       "      <td>tt10122042</td>\n",
       "      <td>9</td>\n",
       "      <td>nm10592298</td>\n",
       "      <td>composer</td>\n",
       "      <td>nm10592286</td>\n",
       "      <td>NaN</td>\n",
       "      <td>8.0</td>\n",
       "      <td>30</td>\n",
       "      <td>Andrew Sears</td>\n",
       "      <td>tt10122042</td>\n",
       "      <td>unknown</td>\n",
       "    </tr>\n",
       "    <tr>\n",
       "      <th>732</th>\n",
       "      <td>tt1023339</td>\n",
       "      <td>6</td>\n",
       "      <td>nm1784272</td>\n",
       "      <td>writer</td>\n",
       "      <td>nm0186728</td>\n",
       "      <td>nm2648546,nm1784272</td>\n",
       "      <td>7.5</td>\n",
       "      <td>56</td>\n",
       "      <td>Franco Bongiovanni</td>\n",
       "      <td>tt1023339</td>\n",
       "      <td>writer</td>\n",
       "    </tr>\n",
       "    <tr>\n",
       "      <th>818</th>\n",
       "      <td>tt1047850</td>\n",
       "      <td>1</td>\n",
       "      <td>nm2678480</td>\n",
       "      <td>actor</td>\n",
       "      <td>nm2179720</td>\n",
       "      <td>nm2179720</td>\n",
       "      <td>8.0</td>\n",
       "      <td>8</td>\n",
       "      <td>Ben Altman</td>\n",
       "      <td>tt1047850</td>\n",
       "      <td>unknown</td>\n",
       "    </tr>\n",
       "    <tr>\n",
       "      <th>...</th>\n",
       "      <td>...</td>\n",
       "      <td>...</td>\n",
       "      <td>...</td>\n",
       "      <td>...</td>\n",
       "      <td>...</td>\n",
       "      <td>...</td>\n",
       "      <td>...</td>\n",
       "      <td>...</td>\n",
       "      <td>...</td>\n",
       "      <td>...</td>\n",
       "      <td>...</td>\n",
       "    </tr>\n",
       "    <tr>\n",
       "      <th>629588</th>\n",
       "      <td>tt9670894</td>\n",
       "      <td>8</td>\n",
       "      <td>nm10480025</td>\n",
       "      <td>writer</td>\n",
       "      <td>nm4039933,nm7840985</td>\n",
       "      <td>nm0080139,nm10480025,nm10480024</td>\n",
       "      <td>6.9</td>\n",
       "      <td>10</td>\n",
       "      <td>Irfan Mujawar</td>\n",
       "      <td>tt9670894</td>\n",
       "      <td>writer</td>\n",
       "    </tr>\n",
       "    <tr>\n",
       "      <th>629589</th>\n",
       "      <td>tt9670894</td>\n",
       "      <td>9</td>\n",
       "      <td>nm10480024</td>\n",
       "      <td>writer</td>\n",
       "      <td>nm4039933,nm7840985</td>\n",
       "      <td>nm0080139,nm10480025,nm10480024</td>\n",
       "      <td>6.9</td>\n",
       "      <td>10</td>\n",
       "      <td>Rushikesh Turai</td>\n",
       "      <td>tt9670894</td>\n",
       "      <td>writer</td>\n",
       "    </tr>\n",
       "    <tr>\n",
       "      <th>629591</th>\n",
       "      <td>tt9681728</td>\n",
       "      <td>2</td>\n",
       "      <td>nm10436664</td>\n",
       "      <td>actor</td>\n",
       "      <td>nm10436661</td>\n",
       "      <td>NaN</td>\n",
       "      <td>6.6</td>\n",
       "      <td>34</td>\n",
       "      <td>Filipp Dyachkov</td>\n",
       "      <td>tt9681728</td>\n",
       "      <td>actor</td>\n",
       "    </tr>\n",
       "    <tr>\n",
       "      <th>629593</th>\n",
       "      <td>tt9681728</td>\n",
       "      <td>4</td>\n",
       "      <td>nm10436662</td>\n",
       "      <td>actor</td>\n",
       "      <td>nm10436661</td>\n",
       "      <td>NaN</td>\n",
       "      <td>6.6</td>\n",
       "      <td>34</td>\n",
       "      <td>Vladimir Korolev</td>\n",
       "      <td>tt9681728</td>\n",
       "      <td>actor</td>\n",
       "    </tr>\n",
       "    <tr>\n",
       "      <th>629596</th>\n",
       "      <td>tt9681728</td>\n",
       "      <td>8</td>\n",
       "      <td>nm10436663</td>\n",
       "      <td>actor</td>\n",
       "      <td>nm10436661</td>\n",
       "      <td>NaN</td>\n",
       "      <td>6.6</td>\n",
       "      <td>34</td>\n",
       "      <td>Artem Leshik</td>\n",
       "      <td>tt9681728</td>\n",
       "      <td>actor</td>\n",
       "    </tr>\n",
       "  </tbody>\n",
       "</table>\n",
       "<p>71255 rows × 11 columns</p>\n",
       "</div>"
      ],
      "text/plain": [
       "            tconst  ordering      nconst  category            directors   \n",
       "5        tt0323808         1   nm3579312   actress            nm0362736  \\\n",
       "484      tt0879405         6   nm8710648    writer            nm1275939   \n",
       "614     tt10122042         9  nm10592298  composer           nm10592286   \n",
       "732      tt1023339         6   nm1784272    writer            nm0186728   \n",
       "818      tt1047850         1   nm2678480     actor            nm2179720   \n",
       "...            ...       ...         ...       ...                  ...   \n",
       "629588   tt9670894         8  nm10480025    writer  nm4039933,nm7840985   \n",
       "629589   tt9670894         9  nm10480024    writer  nm4039933,nm7840985   \n",
       "629591   tt9681728         2  nm10436664     actor           nm10436661   \n",
       "629593   tt9681728         4  nm10436662     actor           nm10436661   \n",
       "629596   tt9681728         8  nm10436663     actor           nm10436661   \n",
       "\n",
       "                                writers  averagerating  numvotes   \n",
       "5                             nm0362736            3.9      2328  \\\n",
       "484                           nm8710648            5.3       250   \n",
       "614                                 NaN            8.0        30   \n",
       "732                 nm2648546,nm1784272            7.5        56   \n",
       "818                           nm2179720            8.0         8   \n",
       "...                                 ...            ...       ...   \n",
       "629588  nm0080139,nm10480025,nm10480024            6.9        10   \n",
       "629589  nm0080139,nm10480025,nm10480024            6.9        10   \n",
       "629591                              NaN            6.6        34   \n",
       "629593                              NaN            6.6        34   \n",
       "629596                              NaN            6.6        34   \n",
       "\n",
       "              primary_name known_for_titles  primary_profession  \n",
       "5          Brittania Nicol        tt0323808  actress,soundtrack  \n",
       "484     William Tyler Bell        tt0879405              writer  \n",
       "614           Andrew Sears       tt10122042             unknown  \n",
       "732     Franco Bongiovanni        tt1023339              writer  \n",
       "818             Ben Altman        tt1047850             unknown  \n",
       "...                    ...              ...                 ...  \n",
       "629588       Irfan Mujawar        tt9670894              writer  \n",
       "629589     Rushikesh Turai        tt9670894              writer  \n",
       "629591     Filipp Dyachkov        tt9681728               actor  \n",
       "629593    Vladimir Korolev        tt9681728               actor  \n",
       "629596        Artem Leshik        tt9681728               actor  \n",
       "\n",
       "[71255 rows x 11 columns]"
      ]
     },
     "execution_count": 101,
     "metadata": {},
     "output_type": "execute_result"
    }
   ],
   "source": [
    "matching_values_df = final_merged_tconst_df[final_merged_tconst_df['tconst'] == final_merged_tconst_df['known_for_titles']]\n",
    "matching_values_df"
   ]
  },
  {
   "cell_type": "code",
   "execution_count": 99,
   "id": "858120ae",
   "metadata": {},
   "outputs": [
    {
     "name": "stdout",
     "output_type": "stream",
     "text": [
      "<class 'pandas.core.frame.DataFrame'>\n",
      "RangeIndex: 629598 entries, 0 to 629597\n",
      "Data columns (total 11 columns):\n",
      " #   Column              Non-Null Count   Dtype  \n",
      "---  ------              --------------   -----  \n",
      " 0   tconst              629598 non-null  object \n",
      " 1   ordering            629598 non-null  int64  \n",
      " 2   nconst              629598 non-null  object \n",
      " 3   category            629598 non-null  object \n",
      " 4   directors           626086 non-null  object \n",
      " 5   writers             558824 non-null  object \n",
      " 6   averagerating       629598 non-null  float64\n",
      " 7   numvotes            629598 non-null  int64  \n",
      " 8   primary_name        629598 non-null  object \n",
      " 9   known_for_titles    629598 non-null  object \n",
      " 10  primary_profession  629598 non-null  object \n",
      "dtypes: float64(1), int64(2), object(8)\n",
      "memory usage: 52.8+ MB\n"
     ]
    }
   ],
   "source": [
    "final_merged_tconst_df.info()"
   ]
  },
  {
   "cell_type": "markdown",
   "id": "ceeae3a5",
   "metadata": {},
   "source": [
    "## Loooking for popular directors"
   ]
  },
  {
   "cell_type": "code",
   "execution_count": null,
   "id": "9eb35008",
   "metadata": {},
   "outputs": [],
   "source": []
  }
 ],
 "metadata": {
  "kernelspec": {
   "display_name": "python(learn-env)",
   "language": "python",
   "name": "learn-env"
  },
  "language_info": {
   "codemirror_mode": {
    "name": "ipython",
    "version": 3
   },
   "file_extension": ".py",
   "mimetype": "text/x-python",
   "name": "python",
   "nbconvert_exporter": "python",
   "pygments_lexer": "ipython3",
   "version": "3.10.11"
  }
 },
 "nbformat": 4,
 "nbformat_minor": 5
}
